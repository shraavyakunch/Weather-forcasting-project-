{
 "cells": [
  {
   "cell_type": "markdown",
   "metadata": {
    "colab_type": "text",
    "id": "nLZ-z6g8H5NX"
   },
   "source": [
    "## shraavya  G kunch - 221710313052\n",
    "## WEATHER FORCASTING - Project name \n",
    "## PROBLEM STATEMENT:\n",
    "## Aim of the project : To know the weather report based on the data given in the coloumns. \n",
    "## Analyzing the problem : We can solve the problem with the help of machine learning.\n",
    "## Train the model : using RNN \n",
    "\n"
   ]
  },
  {
   "cell_type": "code",
   "execution_count": 1,
   "metadata": {
    "colab": {
     "base_uri": "https://localhost:8080/",
     "height": 71
    },
    "colab_type": "code",
    "id": "-ClUfvpKmukY",
    "outputId": "86e797e0-cea9-46e2-8908-2643c8770195"
   },
   "outputs": [
    {
     "name": "stderr",
     "output_type": "stream",
     "text": [
      "/usr/local/lib/python3.6/dist-packages/statsmodels/tools/_testing.py:19: FutureWarning: pandas.util.testing is deprecated. Use the functions in the public API at pandas.testing instead.\n",
      "  import pandas.util.testing as tm\n"
     ]
    }
   ],
   "source": [
    "#importing packages\n",
    "import pandas as pd\n",
    "import numpy as np\n",
    "import seaborn as sns\n",
    "import matplotlib.pyplot as plt\n",
    "%matplotlib inline \n",
    "import sklearn\n",
    "from sklearn.model_selection import train_test_split\n",
    "from sklearn.metrics import accuracy_score\n",
    "from sklearn.linear_model import LinearRegression\n",
    "import tensorflow as tf"
   ]
  },
  {
   "cell_type": "markdown",
   "metadata": {
    "colab_type": "text",
    "id": "eaeGxGVLaan3"
   },
   "source": [
    "# Analyzing the data: "
   ]
  },
  {
   "cell_type": "code",
   "execution_count": 2,
   "metadata": {
    "colab": {
     "base_uri": "https://localhost:8080/",
     "height": 643
    },
    "colab_type": "code",
    "id": "quO9oNGzp1Fm",
    "outputId": "2488304e-e416-43be-91c2-6e130b65a903"
   },
   "outputs": [
    {
     "data": {
      "text/html": [
       "<div>\n",
       "<style scoped>\n",
       "    .dataframe tbody tr th:only-of-type {\n",
       "        vertical-align: middle;\n",
       "    }\n",
       "\n",
       "    .dataframe tbody tr th {\n",
       "        vertical-align: top;\n",
       "    }\n",
       "\n",
       "    .dataframe thead th {\n",
       "        text-align: right;\n",
       "    }\n",
       "</style>\n",
       "<table border=\"1\" class=\"dataframe\">\n",
       "  <thead>\n",
       "    <tr style=\"text-align: right;\">\n",
       "      <th></th>\n",
       "      <th>Date Time</th>\n",
       "      <th>p (mbar)</th>\n",
       "      <th>T (degC)</th>\n",
       "      <th>Tpot (K)</th>\n",
       "      <th>Tdew (degC)</th>\n",
       "      <th>rh (%)</th>\n",
       "      <th>VPmax (mbar)</th>\n",
       "      <th>VPact (mbar)</th>\n",
       "      <th>VPdef (mbar)</th>\n",
       "      <th>sh (g/kg)</th>\n",
       "      <th>H2OC (mmol/mol)</th>\n",
       "      <th>rho (g/m**3)</th>\n",
       "      <th>wv (m/s)</th>\n",
       "      <th>max. wv (m/s)</th>\n",
       "      <th>wd (deg)</th>\n",
       "      <th>rain (mm)</th>\n",
       "      <th>raining (s)</th>\n",
       "      <th>SWDR (W/m²)</th>\n",
       "      <th>PAR (µmol/m²/s)</th>\n",
       "      <th>max. PAR (µmol/m²/s)</th>\n",
       "      <th>Tlog (degC)</th>\n",
       "      <th>CO2 (ppm)</th>\n",
       "    </tr>\n",
       "  </thead>\n",
       "  <tbody>\n",
       "    <tr>\n",
       "      <th>0</th>\n",
       "      <td>01.01.2020 00:10:00</td>\n",
       "      <td>1008.89</td>\n",
       "      <td>0.71</td>\n",
       "      <td>273.18</td>\n",
       "      <td>-1.33</td>\n",
       "      <td>86.1</td>\n",
       "      <td>6.43</td>\n",
       "      <td>5.54</td>\n",
       "      <td>0.89</td>\n",
       "      <td>3.42</td>\n",
       "      <td>5.49</td>\n",
       "      <td>1280.62</td>\n",
       "      <td>1.02</td>\n",
       "      <td>1.60</td>\n",
       "      <td>224.3</td>\n",
       "      <td>0.0</td>\n",
       "      <td>0</td>\n",
       "      <td>0.00</td>\n",
       "      <td>0.00</td>\n",
       "      <td>0.00</td>\n",
       "      <td>11.45</td>\n",
       "      <td>428.1</td>\n",
       "    </tr>\n",
       "    <tr>\n",
       "      <th>1</th>\n",
       "      <td>01.01.2020 00:20:00</td>\n",
       "      <td>1008.76</td>\n",
       "      <td>0.75</td>\n",
       "      <td>273.22</td>\n",
       "      <td>-1.44</td>\n",
       "      <td>85.2</td>\n",
       "      <td>6.45</td>\n",
       "      <td>5.49</td>\n",
       "      <td>0.95</td>\n",
       "      <td>3.39</td>\n",
       "      <td>5.45</td>\n",
       "      <td>1280.33</td>\n",
       "      <td>0.43</td>\n",
       "      <td>0.84</td>\n",
       "      <td>206.8</td>\n",
       "      <td>0.0</td>\n",
       "      <td>0</td>\n",
       "      <td>0.00</td>\n",
       "      <td>0.00</td>\n",
       "      <td>0.00</td>\n",
       "      <td>11.51</td>\n",
       "      <td>428.0</td>\n",
       "    </tr>\n",
       "    <tr>\n",
       "      <th>2</th>\n",
       "      <td>01.01.2020 00:30:00</td>\n",
       "      <td>1008.66</td>\n",
       "      <td>0.73</td>\n",
       "      <td>273.21</td>\n",
       "      <td>-1.48</td>\n",
       "      <td>85.1</td>\n",
       "      <td>6.44</td>\n",
       "      <td>5.48</td>\n",
       "      <td>0.96</td>\n",
       "      <td>3.39</td>\n",
       "      <td>5.43</td>\n",
       "      <td>1280.29</td>\n",
       "      <td>0.61</td>\n",
       "      <td>1.48</td>\n",
       "      <td>197.1</td>\n",
       "      <td>0.0</td>\n",
       "      <td>0</td>\n",
       "      <td>0.00</td>\n",
       "      <td>0.00</td>\n",
       "      <td>0.00</td>\n",
       "      <td>11.60</td>\n",
       "      <td>427.6</td>\n",
       "    </tr>\n",
       "    <tr>\n",
       "      <th>3</th>\n",
       "      <td>01.01.2020 00:40:00</td>\n",
       "      <td>1008.64</td>\n",
       "      <td>0.37</td>\n",
       "      <td>272.86</td>\n",
       "      <td>-1.64</td>\n",
       "      <td>86.3</td>\n",
       "      <td>6.27</td>\n",
       "      <td>5.41</td>\n",
       "      <td>0.86</td>\n",
       "      <td>3.35</td>\n",
       "      <td>5.37</td>\n",
       "      <td>1281.97</td>\n",
       "      <td>1.11</td>\n",
       "      <td>1.48</td>\n",
       "      <td>206.4</td>\n",
       "      <td>0.0</td>\n",
       "      <td>0</td>\n",
       "      <td>0.00</td>\n",
       "      <td>0.00</td>\n",
       "      <td>0.00</td>\n",
       "      <td>11.70</td>\n",
       "      <td>430.0</td>\n",
       "    </tr>\n",
       "    <tr>\n",
       "      <th>4</th>\n",
       "      <td>01.01.2020 00:50:00</td>\n",
       "      <td>1008.61</td>\n",
       "      <td>0.33</td>\n",
       "      <td>272.82</td>\n",
       "      <td>-1.50</td>\n",
       "      <td>87.4</td>\n",
       "      <td>6.26</td>\n",
       "      <td>5.47</td>\n",
       "      <td>0.79</td>\n",
       "      <td>3.38</td>\n",
       "      <td>5.42</td>\n",
       "      <td>1282.08</td>\n",
       "      <td>0.49</td>\n",
       "      <td>1.40</td>\n",
       "      <td>209.6</td>\n",
       "      <td>0.0</td>\n",
       "      <td>0</td>\n",
       "      <td>0.00</td>\n",
       "      <td>0.00</td>\n",
       "      <td>0.00</td>\n",
       "      <td>11.81</td>\n",
       "      <td>432.2</td>\n",
       "    </tr>\n",
       "    <tr>\n",
       "      <th>...</th>\n",
       "      <td>...</td>\n",
       "      <td>...</td>\n",
       "      <td>...</td>\n",
       "      <td>...</td>\n",
       "      <td>...</td>\n",
       "      <td>...</td>\n",
       "      <td>...</td>\n",
       "      <td>...</td>\n",
       "      <td>...</td>\n",
       "      <td>...</td>\n",
       "      <td>...</td>\n",
       "      <td>...</td>\n",
       "      <td>...</td>\n",
       "      <td>...</td>\n",
       "      <td>...</td>\n",
       "      <td>...</td>\n",
       "      <td>...</td>\n",
       "      <td>...</td>\n",
       "      <td>...</td>\n",
       "      <td>...</td>\n",
       "      <td>...</td>\n",
       "      <td>...</td>\n",
       "    </tr>\n",
       "    <tr>\n",
       "      <th>27290</th>\n",
       "      <td>08.07.2020 13:50:00</td>\n",
       "      <td>990.23</td>\n",
       "      <td>14.77</td>\n",
       "      <td>288.73</td>\n",
       "      <td>12.08</td>\n",
       "      <td>83.9</td>\n",
       "      <td>16.83</td>\n",
       "      <td>14.12</td>\n",
       "      <td>2.71</td>\n",
       "      <td>8.92</td>\n",
       "      <td>14.26</td>\n",
       "      <td>1191.64</td>\n",
       "      <td>1.29</td>\n",
       "      <td>2.17</td>\n",
       "      <td>221.8</td>\n",
       "      <td>0.0</td>\n",
       "      <td>350</td>\n",
       "      <td>227.40</td>\n",
       "      <td>496.45</td>\n",
       "      <td>601.39</td>\n",
       "      <td>25.58</td>\n",
       "      <td>405.2</td>\n",
       "    </tr>\n",
       "    <tr>\n",
       "      <th>27291</th>\n",
       "      <td>08.07.2020 14:00:00</td>\n",
       "      <td>990.23</td>\n",
       "      <td>14.75</td>\n",
       "      <td>288.71</td>\n",
       "      <td>11.84</td>\n",
       "      <td>82.7</td>\n",
       "      <td>16.81</td>\n",
       "      <td>13.90</td>\n",
       "      <td>2.91</td>\n",
       "      <td>8.78</td>\n",
       "      <td>14.04</td>\n",
       "      <td>1191.83</td>\n",
       "      <td>1.23</td>\n",
       "      <td>2.17</td>\n",
       "      <td>211.7</td>\n",
       "      <td>0.0</td>\n",
       "      <td>410</td>\n",
       "      <td>162.56</td>\n",
       "      <td>356.90</td>\n",
       "      <td>422.91</td>\n",
       "      <td>25.72</td>\n",
       "      <td>406.6</td>\n",
       "    </tr>\n",
       "    <tr>\n",
       "      <th>27292</th>\n",
       "      <td>08.07.2020 14:10:00</td>\n",
       "      <td>990.23</td>\n",
       "      <td>14.68</td>\n",
       "      <td>288.64</td>\n",
       "      <td>12.12</td>\n",
       "      <td>84.6</td>\n",
       "      <td>16.73</td>\n",
       "      <td>14.15</td>\n",
       "      <td>2.58</td>\n",
       "      <td>8.94</td>\n",
       "      <td>14.29</td>\n",
       "      <td>1192.00</td>\n",
       "      <td>1.17</td>\n",
       "      <td>2.07</td>\n",
       "      <td>250.8</td>\n",
       "      <td>0.0</td>\n",
       "      <td>120</td>\n",
       "      <td>110.14</td>\n",
       "      <td>243.99</td>\n",
       "      <td>272.75</td>\n",
       "      <td>25.84</td>\n",
       "      <td>405.6</td>\n",
       "    </tr>\n",
       "    <tr>\n",
       "      <th>27293</th>\n",
       "      <td>08.07.2020 14:20:00</td>\n",
       "      <td>990.27</td>\n",
       "      <td>14.47</td>\n",
       "      <td>288.43</td>\n",
       "      <td>12.18</td>\n",
       "      <td>86.1</td>\n",
       "      <td>16.50</td>\n",
       "      <td>14.21</td>\n",
       "      <td>2.29</td>\n",
       "      <td>8.97</td>\n",
       "      <td>14.35</td>\n",
       "      <td>1192.89</td>\n",
       "      <td>1.24</td>\n",
       "      <td>1.90</td>\n",
       "      <td>222.6</td>\n",
       "      <td>0.0</td>\n",
       "      <td>100</td>\n",
       "      <td>115.28</td>\n",
       "      <td>256.61</td>\n",
       "      <td>336.03</td>\n",
       "      <td>25.91</td>\n",
       "      <td>405.9</td>\n",
       "    </tr>\n",
       "    <tr>\n",
       "      <th>27294</th>\n",
       "      <td>08.07.2020 14:30:00</td>\n",
       "      <td>990.29</td>\n",
       "      <td>14.50</td>\n",
       "      <td>288.45</td>\n",
       "      <td>12.21</td>\n",
       "      <td>86.1</td>\n",
       "      <td>16.54</td>\n",
       "      <td>14.24</td>\n",
       "      <td>2.30</td>\n",
       "      <td>8.99</td>\n",
       "      <td>14.38</td>\n",
       "      <td>1192.78</td>\n",
       "      <td>1.22</td>\n",
       "      <td>1.99</td>\n",
       "      <td>203.5</td>\n",
       "      <td>0.0</td>\n",
       "      <td>60</td>\n",
       "      <td>138.78</td>\n",
       "      <td>309.43</td>\n",
       "      <td>342.47</td>\n",
       "      <td>25.92</td>\n",
       "      <td>407.1</td>\n",
       "    </tr>\n",
       "  </tbody>\n",
       "</table>\n",
       "<p>27295 rows × 22 columns</p>\n",
       "</div>"
      ],
      "text/plain": [
       "                 Date Time  p (mbar)  ...  Tlog (degC)  CO2 (ppm)\n",
       "0      01.01.2020 00:10:00   1008.89  ...        11.45      428.1\n",
       "1      01.01.2020 00:20:00   1008.76  ...        11.51      428.0\n",
       "2      01.01.2020 00:30:00   1008.66  ...        11.60      427.6\n",
       "3      01.01.2020 00:40:00   1008.64  ...        11.70      430.0\n",
       "4      01.01.2020 00:50:00   1008.61  ...        11.81      432.2\n",
       "...                    ...       ...  ...          ...        ...\n",
       "27290  08.07.2020 13:50:00    990.23  ...        25.58      405.2\n",
       "27291  08.07.2020 14:00:00    990.23  ...        25.72      406.6\n",
       "27292  08.07.2020 14:10:00    990.23  ...        25.84      405.6\n",
       "27293  08.07.2020 14:20:00    990.27  ...        25.91      405.9\n",
       "27294  08.07.2020 14:30:00    990.29  ...        25.92      407.1\n",
       "\n",
       "[27295 rows x 22 columns]"
      ]
     },
     "execution_count": 2,
     "metadata": {
      "tags": []
     },
     "output_type": "execute_result"
    }
   ],
   "source": [
    " \n",
    " Data = pd.read_csv('/content/drive/My Drive/weather/shraavya/projectdata.csv',header = 0,encoding= 'unicode_escape')\n",
    " Data"
   ]
  },
  {
   "cell_type": "code",
   "execution_count": 3,
   "metadata": {
    "colab": {
     "base_uri": "https://localhost:8080/",
     "height": 119
    },
    "colab_type": "code",
    "id": "HVQ8cX6nw_-6",
    "outputId": "bebb6117-d422-4b52-eead-5cf3e2800c68"
   },
   "outputs": [
    {
     "data": {
      "text/plain": [
       "Index(['Date Time', 'p (mbar)', 'T (degC)', 'Tpot (K)', 'Tdew (degC)',\n",
       "       'rh (%)', 'VPmax (mbar)', 'VPact (mbar)', 'VPdef (mbar)', 'sh (g/kg)',\n",
       "       'H2OC (mmol/mol)', 'rho (g/m**3)', 'wv (m/s)', 'max. wv (m/s)',\n",
       "       'wd (deg)', 'rain (mm)', 'raining (s)', 'SWDR (W/m²)',\n",
       "       'PAR (µmol/m²/s)', 'max. PAR (µmol/m²/s)', 'Tlog (degC)', 'CO2 (ppm)'],\n",
       "      dtype='object')"
      ]
     },
     "execution_count": 3,
     "metadata": {
      "tags": []
     },
     "output_type": "execute_result"
    }
   ],
   "source": [
    "Data.columns"
   ]
  },
  {
   "cell_type": "code",
   "execution_count": 4,
   "metadata": {
    "colab": {
     "base_uri": "https://localhost:8080/",
     "height": 408
    },
    "colab_type": "code",
    "id": "8vgBxzHNxOet",
    "outputId": "3998c3be-b0e7-482d-e30c-e90cb242165d"
   },
   "outputs": [
    {
     "data": {
      "text/plain": [
       "Date Time                object\n",
       "p (mbar)                float64\n",
       "T (degC)                float64\n",
       "Tpot (K)                float64\n",
       "Tdew (degC)             float64\n",
       "rh (%)                  float64\n",
       "VPmax (mbar)            float64\n",
       "VPact (mbar)            float64\n",
       "VPdef (mbar)            float64\n",
       "sh (g/kg)               float64\n",
       "H2OC (mmol/mol)         float64\n",
       "rho (g/m**3)            float64\n",
       "wv (m/s)                float64\n",
       "max. wv (m/s)           float64\n",
       "wd (deg)                float64\n",
       "rain (mm)               float64\n",
       "raining (s)               int64\n",
       "SWDR (W/m²)             float64\n",
       "PAR (µmol/m²/s)         float64\n",
       "max. PAR (µmol/m²/s)    float64\n",
       "Tlog (degC)             float64\n",
       "CO2 (ppm)               float64\n",
       "dtype: object"
      ]
     },
     "execution_count": 4,
     "metadata": {
      "tags": []
     },
     "output_type": "execute_result"
    }
   ],
   "source": [
    "Data.dtypes"
   ]
  },
  {
   "cell_type": "markdown",
   "metadata": {
    "colab_type": "text",
    "id": "jumGOQSNa0ug"
   },
   "source": [
    "# Data pre-processing:"
   ]
  },
  {
   "cell_type": "code",
   "execution_count": 5,
   "metadata": {
    "colab": {
     "base_uri": "https://localhost:8080/",
     "height": 408
    },
    "colab_type": "code",
    "id": "79TUT96IxT0D",
    "outputId": "8c18f7a0-6b6a-4506-e6ae-59ab81041cb1"
   },
   "outputs": [
    {
     "data": {
      "text/plain": [
       "Date Time               0\n",
       "p (mbar)                0\n",
       "T (degC)                0\n",
       "Tpot (K)                0\n",
       "Tdew (degC)             0\n",
       "rh (%)                  0\n",
       "VPmax (mbar)            0\n",
       "VPact (mbar)            0\n",
       "VPdef (mbar)            0\n",
       "sh (g/kg)               0\n",
       "H2OC (mmol/mol)         0\n",
       "rho (g/m**3)            0\n",
       "wv (m/s)                0\n",
       "max. wv (m/s)           0\n",
       "wd (deg)                0\n",
       "rain (mm)               0\n",
       "raining (s)             0\n",
       "SWDR (W/m²)             0\n",
       "PAR (µmol/m²/s)         0\n",
       "max. PAR (µmol/m²/s)    0\n",
       "Tlog (degC)             0\n",
       "CO2 (ppm)               0\n",
       "dtype: int64"
      ]
     },
     "execution_count": 5,
     "metadata": {
      "tags": []
     },
     "output_type": "execute_result"
    }
   ],
   "source": [
    "Data.isnull().sum() #checking for total null values\n"
   ]
  },
  {
   "cell_type": "code",
   "execution_count": 6,
   "metadata": {
    "colab": {
     "base_uri": "https://localhost:8080/",
     "height": 408
    },
    "colab_type": "code",
    "id": "44ijbO6txZij",
    "outputId": "b6ffc6f5-b815-4908-e7fc-b394f01b70d4"
   },
   "outputs": [
    {
     "data": {
      "text/plain": [
       "Date Time               0\n",
       "p (mbar)                0\n",
       "T (degC)                0\n",
       "Tpot (K)                0\n",
       "Tdew (degC)             0\n",
       "rh (%)                  0\n",
       "VPmax (mbar)            0\n",
       "VPact (mbar)            0\n",
       "VPdef (mbar)            0\n",
       "sh (g/kg)               0\n",
       "H2OC (mmol/mol)         0\n",
       "rho (g/m**3)            0\n",
       "wv (m/s)                0\n",
       "max. wv (m/s)           0\n",
       "wd (deg)                0\n",
       "rain (mm)               0\n",
       "raining (s)             0\n",
       "SWDR (W/m²)             0\n",
       "PAR (µmol/m²/s)         0\n",
       "max. PAR (µmol/m²/s)    0\n",
       "Tlog (degC)             0\n",
       "CO2 (ppm)               0\n",
       "dtype: int64"
      ]
     },
     "execution_count": 6,
     "metadata": {
      "tags": []
     },
     "output_type": "execute_result"
    }
   ],
   "source": [
    "Data.isna().sum() #checking for missing values"
   ]
  },
  {
   "cell_type": "code",
   "execution_count": 7,
   "metadata": {
    "colab": {
     "base_uri": "https://localhost:8080/",
     "height": 408
    },
    "colab_type": "code",
    "id": "izWFm4qFx9D1",
    "outputId": "06879cb6-10db-4343-993e-bd3769d0c144"
   },
   "outputs": [
    {
     "data": {
      "text/plain": [
       "Date Time               27294\n",
       "p (mbar)                 4550\n",
       "T (degC)                 3161\n",
       "Tpot (K)                 3326\n",
       "Tdew (degC)              2880\n",
       "rh (%)                   4694\n",
       "VPmax (mbar)             2452\n",
       "VPact (mbar)             1848\n",
       "VPdef (mbar)             2010\n",
       "sh (g/kg)                1218\n",
       "H2OC (mmol/mol)          1884\n",
       "rho (g/m**3)            11965\n",
       "wv (m/s)                  960\n",
       "max. wv (m/s)            1289\n",
       "wd (deg)                 6546\n",
       "rain (mm)                  31\n",
       "raining (s)                61\n",
       "SWDR (W/m²)              7216\n",
       "PAR (µmol/m²/s)          8747\n",
       "max. PAR (µmol/m²/s)     7786\n",
       "Tlog (degC)              3115\n",
       "CO2 (ppm)                 974\n",
       "dtype: int64"
      ]
     },
     "execution_count": 7,
     "metadata": {
      "tags": []
     },
     "output_type": "execute_result"
    }
   ],
   "source": [
    "Data.nunique() #checking for unique values"
   ]
  },
  {
   "cell_type": "code",
   "execution_count": 8,
   "metadata": {
    "colab": {
     "base_uri": "https://localhost:8080/",
     "height": 334
    },
    "colab_type": "code",
    "id": "CAuStP8NzScB",
    "outputId": "4f66a1fb-af46-4e51-ed3a-818fbc01c4f9"
   },
   "outputs": [
    {
     "data": {
      "text/html": [
       "<div>\n",
       "<style scoped>\n",
       "    .dataframe tbody tr th:only-of-type {\n",
       "        vertical-align: middle;\n",
       "    }\n",
       "\n",
       "    .dataframe tbody tr th {\n",
       "        vertical-align: top;\n",
       "    }\n",
       "\n",
       "    .dataframe thead th {\n",
       "        text-align: right;\n",
       "    }\n",
       "</style>\n",
       "<table border=\"1\" class=\"dataframe\">\n",
       "  <thead>\n",
       "    <tr style=\"text-align: right;\">\n",
       "      <th></th>\n",
       "      <th>p (mbar)</th>\n",
       "      <th>T (degC)</th>\n",
       "      <th>Tpot (K)</th>\n",
       "      <th>Tdew (degC)</th>\n",
       "      <th>rh (%)</th>\n",
       "      <th>VPmax (mbar)</th>\n",
       "      <th>VPact (mbar)</th>\n",
       "      <th>VPdef (mbar)</th>\n",
       "      <th>sh (g/kg)</th>\n",
       "      <th>H2OC (mmol/mol)</th>\n",
       "      <th>rho (g/m**3)</th>\n",
       "      <th>wv (m/s)</th>\n",
       "      <th>max. wv (m/s)</th>\n",
       "      <th>wd (deg)</th>\n",
       "      <th>rain (mm)</th>\n",
       "      <th>raining (s)</th>\n",
       "      <th>SWDR (W/m²)</th>\n",
       "      <th>PAR (µmol/m²/s)</th>\n",
       "      <th>max. PAR (µmol/m²/s)</th>\n",
       "      <th>Tlog (degC)</th>\n",
       "      <th>CO2 (ppm)</th>\n",
       "    </tr>\n",
       "  </thead>\n",
       "  <tbody>\n",
       "    <tr>\n",
       "      <th>count</th>\n",
       "      <td>27295.000000</td>\n",
       "      <td>27295.000000</td>\n",
       "      <td>27295.000000</td>\n",
       "      <td>27295.000000</td>\n",
       "      <td>27295.000000</td>\n",
       "      <td>27295.000000</td>\n",
       "      <td>27295.000000</td>\n",
       "      <td>27295.000000</td>\n",
       "      <td>27295.000000</td>\n",
       "      <td>27295.000000</td>\n",
       "      <td>27295.000000</td>\n",
       "      <td>27295.000000</td>\n",
       "      <td>27295.000000</td>\n",
       "      <td>27295.000000</td>\n",
       "      <td>27295.000000</td>\n",
       "      <td>27295.000000</td>\n",
       "      <td>27295.000000</td>\n",
       "      <td>27295.000000</td>\n",
       "      <td>27295.000000</td>\n",
       "      <td>27295.000000</td>\n",
       "      <td>27295.000000</td>\n",
       "    </tr>\n",
       "    <tr>\n",
       "      <th>mean</th>\n",
       "      <td>990.918302</td>\n",
       "      <td>9.414767</td>\n",
       "      <td>283.318863</td>\n",
       "      <td>3.277951</td>\n",
       "      <td>68.217354</td>\n",
       "      <td>12.962502</td>\n",
       "      <td>8.336430</td>\n",
       "      <td>4.626016</td>\n",
       "      <td>5.259250</td>\n",
       "      <td>8.423243</td>\n",
       "      <td>1218.535392</td>\n",
       "      <td>2.020501</td>\n",
       "      <td>4.025402</td>\n",
       "      <td>176.168304</td>\n",
       "      <td>0.010969</td>\n",
       "      <td>25.476461</td>\n",
       "      <td>148.509565</td>\n",
       "      <td>292.092832</td>\n",
       "      <td>347.980498</td>\n",
       "      <td>20.119191</td>\n",
       "      <td>413.046642</td>\n",
       "    </tr>\n",
       "    <tr>\n",
       "      <th>std</th>\n",
       "      <td>9.635078</td>\n",
       "      <td>6.777005</td>\n",
       "      <td>7.011616</td>\n",
       "      <td>5.782319</td>\n",
       "      <td>17.737643</td>\n",
       "      <td>6.214778</td>\n",
       "      <td>3.641203</td>\n",
       "      <td>4.324995</td>\n",
       "      <td>2.321683</td>\n",
       "      <td>3.702421</td>\n",
       "      <td>35.201858</td>\n",
       "      <td>60.562641</td>\n",
       "      <td>2.733417</td>\n",
       "      <td>85.756541</td>\n",
       "      <td>0.117806</td>\n",
       "      <td>109.726670</td>\n",
       "      <td>231.486303</td>\n",
       "      <td>450.759215</td>\n",
       "      <td>614.958018</td>\n",
       "      <td>6.848844</td>\n",
       "      <td>368.064687</td>\n",
       "    </tr>\n",
       "    <tr>\n",
       "      <th>min</th>\n",
       "      <td>962.080000</td>\n",
       "      <td>-6.440000</td>\n",
       "      <td>266.190000</td>\n",
       "      <td>-13.810000</td>\n",
       "      <td>21.160000</td>\n",
       "      <td>3.770000</td>\n",
       "      <td>2.090000</td>\n",
       "      <td>0.000000</td>\n",
       "      <td>1.300000</td>\n",
       "      <td>2.090000</td>\n",
       "      <td>1120.920000</td>\n",
       "      <td>-9999.000000</td>\n",
       "      <td>0.000000</td>\n",
       "      <td>0.000000</td>\n",
       "      <td>0.000000</td>\n",
       "      <td>0.000000</td>\n",
       "      <td>0.000000</td>\n",
       "      <td>0.000000</td>\n",
       "      <td>-9999.000000</td>\n",
       "      <td>6.960000</td>\n",
       "      <td>-9999.000000</td>\n",
       "    </tr>\n",
       "    <tr>\n",
       "      <th>25%</th>\n",
       "      <td>984.800000</td>\n",
       "      <td>4.130000</td>\n",
       "      <td>277.960000</td>\n",
       "      <td>-0.590000</td>\n",
       "      <td>54.770000</td>\n",
       "      <td>8.210000</td>\n",
       "      <td>5.850000</td>\n",
       "      <td>1.610000</td>\n",
       "      <td>3.680000</td>\n",
       "      <td>5.900000</td>\n",
       "      <td>1193.115000</td>\n",
       "      <td>1.040000</td>\n",
       "      <td>1.880000</td>\n",
       "      <td>120.300000</td>\n",
       "      <td>0.000000</td>\n",
       "      <td>0.000000</td>\n",
       "      <td>0.000000</td>\n",
       "      <td>0.000000</td>\n",
       "      <td>0.000000</td>\n",
       "      <td>14.840000</td>\n",
       "      <td>416.700000</td>\n",
       "    </tr>\n",
       "    <tr>\n",
       "      <th>50%</th>\n",
       "      <td>991.630000</td>\n",
       "      <td>8.740000</td>\n",
       "      <td>282.850000</td>\n",
       "      <td>2.340000</td>\n",
       "      <td>70.500000</td>\n",
       "      <td>11.290000</td>\n",
       "      <td>7.230000</td>\n",
       "      <td>3.060000</td>\n",
       "      <td>4.570000</td>\n",
       "      <td>7.320000</td>\n",
       "      <td>1218.190000</td>\n",
       "      <td>1.930000</td>\n",
       "      <td>3.400000</td>\n",
       "      <td>199.900000</td>\n",
       "      <td>0.000000</td>\n",
       "      <td>0.000000</td>\n",
       "      <td>10.060000</td>\n",
       "      <td>25.290000</td>\n",
       "      <td>31.080000</td>\n",
       "      <td>18.960000</td>\n",
       "      <td>422.100000</td>\n",
       "    </tr>\n",
       "    <tr>\n",
       "      <th>75%</th>\n",
       "      <td>997.110000</td>\n",
       "      <td>14.400000</td>\n",
       "      <td>288.350000</td>\n",
       "      <td>6.700000</td>\n",
       "      <td>82.500000</td>\n",
       "      <td>16.430000</td>\n",
       "      <td>9.820000</td>\n",
       "      <td>6.240000</td>\n",
       "      <td>6.180000</td>\n",
       "      <td>9.900000</td>\n",
       "      <td>1243.575000</td>\n",
       "      <td>3.255000</td>\n",
       "      <td>5.530000</td>\n",
       "      <td>234.250000</td>\n",
       "      <td>0.000000</td>\n",
       "      <td>0.000000</td>\n",
       "      <td>217.510000</td>\n",
       "      <td>432.475000</td>\n",
       "      <td>514.120000</td>\n",
       "      <td>24.780000</td>\n",
       "      <td>432.000000</td>\n",
       "    </tr>\n",
       "    <tr>\n",
       "      <th>max</th>\n",
       "      <td>1020.070000</td>\n",
       "      <td>29.440000</td>\n",
       "      <td>304.300000</td>\n",
       "      <td>20.500000</td>\n",
       "      <td>100.000000</td>\n",
       "      <td>41.150000</td>\n",
       "      <td>24.160000</td>\n",
       "      <td>23.180000</td>\n",
       "      <td>15.400000</td>\n",
       "      <td>24.530000</td>\n",
       "      <td>1318.520000</td>\n",
       "      <td>13.770000</td>\n",
       "      <td>22.900000</td>\n",
       "      <td>360.000000</td>\n",
       "      <td>11.200000</td>\n",
       "      <td>600.000000</td>\n",
       "      <td>1115.290000</td>\n",
       "      <td>2131.760000</td>\n",
       "      <td>2498.940000</td>\n",
       "      <td>41.530000</td>\n",
       "      <td>524.200000</td>\n",
       "    </tr>\n",
       "  </tbody>\n",
       "</table>\n",
       "</div>"
      ],
      "text/plain": [
       "           p (mbar)      T (degC)  ...   Tlog (degC)     CO2 (ppm)\n",
       "count  27295.000000  27295.000000  ...  27295.000000  27295.000000\n",
       "mean     990.918302      9.414767  ...     20.119191    413.046642\n",
       "std        9.635078      6.777005  ...      6.848844    368.064687\n",
       "min      962.080000     -6.440000  ...      6.960000  -9999.000000\n",
       "25%      984.800000      4.130000  ...     14.840000    416.700000\n",
       "50%      991.630000      8.740000  ...     18.960000    422.100000\n",
       "75%      997.110000     14.400000  ...     24.780000    432.000000\n",
       "max     1020.070000     29.440000  ...     41.530000    524.200000\n",
       "\n",
       "[8 rows x 21 columns]"
      ]
     },
     "execution_count": 8,
     "metadata": {
      "tags": []
     },
     "output_type": "execute_result"
    }
   ],
   "source": [
    "Data.describe()"
   ]
  },
  {
   "cell_type": "code",
   "execution_count": 9,
   "metadata": {
    "colab": {
     "base_uri": "https://localhost:8080/",
     "height": 173
    },
    "colab_type": "code",
    "id": "CNEQIuKrzbo_",
    "outputId": "31d31929-b571-42be-d3fa-ed199d9337aa"
   },
   "outputs": [
    {
     "data": {
      "text/html": [
       "<div>\n",
       "<style scoped>\n",
       "    .dataframe tbody tr th:only-of-type {\n",
       "        vertical-align: middle;\n",
       "    }\n",
       "\n",
       "    .dataframe tbody tr th {\n",
       "        vertical-align: top;\n",
       "    }\n",
       "\n",
       "    .dataframe thead th {\n",
       "        text-align: right;\n",
       "    }\n",
       "</style>\n",
       "<table border=\"1\" class=\"dataframe\">\n",
       "  <thead>\n",
       "    <tr style=\"text-align: right;\">\n",
       "      <th></th>\n",
       "      <th>Date Time</th>\n",
       "    </tr>\n",
       "  </thead>\n",
       "  <tbody>\n",
       "    <tr>\n",
       "      <th>count</th>\n",
       "      <td>27295</td>\n",
       "    </tr>\n",
       "    <tr>\n",
       "      <th>unique</th>\n",
       "      <td>27294</td>\n",
       "    </tr>\n",
       "    <tr>\n",
       "      <th>top</th>\n",
       "      <td>12.05.2020 06:00:00</td>\n",
       "    </tr>\n",
       "    <tr>\n",
       "      <th>freq</th>\n",
       "      <td>2</td>\n",
       "    </tr>\n",
       "  </tbody>\n",
       "</table>\n",
       "</div>"
      ],
      "text/plain": [
       "                  Date Time\n",
       "count                 27295\n",
       "unique                27294\n",
       "top     12.05.2020 06:00:00\n",
       "freq                      2"
      ]
     },
     "execution_count": 9,
     "metadata": {
      "tags": []
     },
     "output_type": "execute_result"
    }
   ],
   "source": [
    "Data.describe(include = ['object'])"
   ]
  },
  {
   "cell_type": "code",
   "execution_count": 10,
   "metadata": {
    "colab": {
     "base_uri": "https://localhost:8080/",
     "height": 385
    },
    "colab_type": "code",
    "id": "Y2Jo-0sBJaDe",
    "outputId": "6fbff39b-dc37-4109-fb2a-87bd0c483828"
   },
   "outputs": [
    {
     "data": {
      "text/plain": [
       "<matplotlib.axes._subplots.AxesSubplot at 0x7ff76fbe5da0>"
      ]
     },
     "execution_count": 10,
     "metadata": {
      "tags": []
     },
     "output_type": "execute_result"
    },
    {
     "data": {
      "image/png": "[encoded data removed]",
      "text/plain": [
       "<Figure size 432x288 with 2 Axes>"
      ]
     },
     "metadata": {
      "needs_background": "light",
      "tags": []
     },
     "output_type": "display_data"
    }
   ],
   "source": [
    "#visualzing the value with heatmap :\n",
    "sns.heatmap(Data.corr())"
   ]
  },
  {
   "cell_type": "code",
   "execution_count": 11,
   "metadata": {
    "colab": {
     "base_uri": "https://localhost:8080/",
     "height": 1000
    },
    "colab_type": "code",
    "id": "DtZ13VbMJZ5_",
    "outputId": "e1d0861e-2458-40ac-86a5-6db67e8ff27a"
   },
   "outputs": [
    {
     "data": {
      "text/plain": [
       "array([[<matplotlib.axes._subplots.AxesSubplot object at 0x7ff76fca06d8>,\n",
       "        <matplotlib.axes._subplots.AxesSubplot object at 0x7ff76fcc8978>,\n",
       "        <matplotlib.axes._subplots.AxesSubplot object at 0x7ff76fc7abe0>,\n",
       "        <matplotlib.axes._subplots.AxesSubplot object at 0x7ff76c764e48>,\n",
       "        <matplotlib.axes._subplots.AxesSubplot object at 0x7ff76c719fd0>],\n",
       "       [<matplotlib.axes._subplots.AxesSubplot object at 0x7ff76c6d93c8>,\n",
       "        <matplotlib.axes._subplots.AxesSubplot object at 0x7ff76c70a748>,\n",
       "        <matplotlib.axes._subplots.AxesSubplot object at 0x7ff76c6bba90>,\n",
       "        <matplotlib.axes._subplots.AxesSubplot object at 0x7ff76c6bbb00>,\n",
       "        <matplotlib.axes._subplots.AxesSubplot object at 0x7ff76c62c208>],\n",
       "       [<matplotlib.axes._subplots.AxesSubplot object at 0x7ff76c5df588>,\n",
       "        <matplotlib.axes._subplots.AxesSubplot object at 0x7ff76c611908>,\n",
       "        <matplotlib.axes._subplots.AxesSubplot object at 0x7ff76c5c5c88>,\n",
       "        <matplotlib.axes._subplots.AxesSubplot object at 0x7ff76c574fd0>,\n",
       "        <matplotlib.axes._subplots.AxesSubplot object at 0x7ff76c5343c8>],\n",
       "       [<matplotlib.axes._subplots.AxesSubplot object at 0x7ff76c4e7748>,\n",
       "        <matplotlib.axes._subplots.AxesSubplot object at 0x7ff76c498ac8>,\n",
       "        <matplotlib.axes._subplots.AxesSubplot object at 0x7ff76c4cce48>,\n",
       "        <matplotlib.axes._subplots.AxesSubplot object at 0x7ff76c48a208>,\n",
       "        <matplotlib.axes._subplots.AxesSubplot object at 0x7ff76c43d588>],\n",
       "       [<matplotlib.axes._subplots.AxesSubplot object at 0x7ff76c3ee908>,\n",
       "        <matplotlib.axes._subplots.AxesSubplot object at 0x7ff76c39fc88>,\n",
       "        <matplotlib.axes._subplots.AxesSubplot object at 0x7ff76c353fd0>,\n",
       "        <matplotlib.axes._subplots.AxesSubplot object at 0x7ff76c3913c8>,\n",
       "        <matplotlib.axes._subplots.AxesSubplot object at 0x7ff76c344748>]],\n",
       "      dtype=object)"
      ]
     },
     "execution_count": 11,
     "metadata": {
      "tags": []
     },
     "output_type": "execute_result"
    },
    {
     "data": {
      "image/png": "[encoded data removed]",
      "text/plain": [
       "<Figure size 864x864 with 25 Axes>"
      ]
     },
     "metadata": {
      "needs_background": "light",
      "tags": []
     },
     "output_type": "display_data"
    }
   ],
   "source": [
    "Data.hist(figsize=(12,12))"
   ]
  },
  {
   "cell_type": "code",
   "execution_count": 12,
   "metadata": {
    "colab": {},
    "colab_type": "code",
    "id": "kjAmFPA6JZqx"
   },
   "outputs": [],
   "source": [
    "#dropping the irrelavant columns : \n",
    "df = pd.DataFrame(Data)"
   ]
  },
  {
   "cell_type": "code",
   "execution_count": 13,
   "metadata": {
    "colab": {},
    "colab_type": "code",
    "id": "CdUAng1iJZlG"
   },
   "outputs": [],
   "source": [
    "df.drop([  'Tdew (degC)',\n",
    "       'VPmax (mbar)', 'VPact (mbar)', 'VPdef (mbar)', 'sh (g/kg)',\n",
    "       'H2OC (mmol/mol)', 'rho (g/m**3)', 'max. wv (m/s)',\n",
    "        'raining (s)', 'SWDR (W/m²)',\n",
    "       'PAR (µmol/m²/s)', 'max. PAR (µmol/m²/s)', 'Tlog (degC)', 'CO2 (ppm)'],axis=1,inplace = True)"
   ]
  },
  {
   "cell_type": "code",
   "execution_count": 14,
   "metadata": {
    "colab": {
     "base_uri": "https://localhost:8080/",
     "height": 34
    },
    "colab_type": "code",
    "id": "mMpwbKOxdkaP",
    "outputId": "3b7080a7-ba21-4b45-e55e-ad691de1f30b"
   },
   "outputs": [
    {
     "data": {
      "text/plain": [
       "(27295, 8)"
      ]
     },
     "execution_count": 14,
     "metadata": {
      "tags": []
     },
     "output_type": "execute_result"
    }
   ],
   "source": [
    "df.shape"
   ]
  },
  {
   "cell_type": "code",
   "execution_count": 15,
   "metadata": {
    "colab": {
     "base_uri": "https://localhost:8080/",
     "height": 419
    },
    "colab_type": "code",
    "id": "F7Fbx4g6lHFo",
    "outputId": "0af7ea38-7616-49a8-fef9-8dd1229581dc"
   },
   "outputs": [
    {
     "data": {
      "text/html": [
       "<div>\n",
       "<style scoped>\n",
       "    .dataframe tbody tr th:only-of-type {\n",
       "        vertical-align: middle;\n",
       "    }\n",
       "\n",
       "    .dataframe tbody tr th {\n",
       "        vertical-align: top;\n",
       "    }\n",
       "\n",
       "    .dataframe thead th {\n",
       "        text-align: right;\n",
       "    }\n",
       "</style>\n",
       "<table border=\"1\" class=\"dataframe\">\n",
       "  <thead>\n",
       "    <tr style=\"text-align: right;\">\n",
       "      <th></th>\n",
       "      <th>Date Time</th>\n",
       "      <th>p (mbar)</th>\n",
       "      <th>T (degC)</th>\n",
       "      <th>Tpot (K)</th>\n",
       "      <th>rh (%)</th>\n",
       "      <th>wv (m/s)</th>\n",
       "      <th>wd (deg)</th>\n",
       "      <th>rain (mm)</th>\n",
       "    </tr>\n",
       "  </thead>\n",
       "  <tbody>\n",
       "    <tr>\n",
       "      <th>0</th>\n",
       "      <td>01.01.2020 00:10:00</td>\n",
       "      <td>1008.89</td>\n",
       "      <td>0.71</td>\n",
       "      <td>273.18</td>\n",
       "      <td>86.1</td>\n",
       "      <td>1.02</td>\n",
       "      <td>224.3</td>\n",
       "      <td>0.0</td>\n",
       "    </tr>\n",
       "    <tr>\n",
       "      <th>1</th>\n",
       "      <td>01.01.2020 00:20:00</td>\n",
       "      <td>1008.76</td>\n",
       "      <td>0.75</td>\n",
       "      <td>273.22</td>\n",
       "      <td>85.2</td>\n",
       "      <td>0.43</td>\n",
       "      <td>206.8</td>\n",
       "      <td>0.0</td>\n",
       "    </tr>\n",
       "    <tr>\n",
       "      <th>2</th>\n",
       "      <td>01.01.2020 00:30:00</td>\n",
       "      <td>1008.66</td>\n",
       "      <td>0.73</td>\n",
       "      <td>273.21</td>\n",
       "      <td>85.1</td>\n",
       "      <td>0.61</td>\n",
       "      <td>197.1</td>\n",
       "      <td>0.0</td>\n",
       "    </tr>\n",
       "    <tr>\n",
       "      <th>3</th>\n",
       "      <td>01.01.2020 00:40:00</td>\n",
       "      <td>1008.64</td>\n",
       "      <td>0.37</td>\n",
       "      <td>272.86</td>\n",
       "      <td>86.3</td>\n",
       "      <td>1.11</td>\n",
       "      <td>206.4</td>\n",
       "      <td>0.0</td>\n",
       "    </tr>\n",
       "    <tr>\n",
       "      <th>4</th>\n",
       "      <td>01.01.2020 00:50:00</td>\n",
       "      <td>1008.61</td>\n",
       "      <td>0.33</td>\n",
       "      <td>272.82</td>\n",
       "      <td>87.4</td>\n",
       "      <td>0.49</td>\n",
       "      <td>209.6</td>\n",
       "      <td>0.0</td>\n",
       "    </tr>\n",
       "    <tr>\n",
       "      <th>...</th>\n",
       "      <td>...</td>\n",
       "      <td>...</td>\n",
       "      <td>...</td>\n",
       "      <td>...</td>\n",
       "      <td>...</td>\n",
       "      <td>...</td>\n",
       "      <td>...</td>\n",
       "      <td>...</td>\n",
       "    </tr>\n",
       "    <tr>\n",
       "      <th>27290</th>\n",
       "      <td>08.07.2020 13:50:00</td>\n",
       "      <td>990.23</td>\n",
       "      <td>14.77</td>\n",
       "      <td>288.73</td>\n",
       "      <td>83.9</td>\n",
       "      <td>1.29</td>\n",
       "      <td>221.8</td>\n",
       "      <td>0.0</td>\n",
       "    </tr>\n",
       "    <tr>\n",
       "      <th>27291</th>\n",
       "      <td>08.07.2020 14:00:00</td>\n",
       "      <td>990.23</td>\n",
       "      <td>14.75</td>\n",
       "      <td>288.71</td>\n",
       "      <td>82.7</td>\n",
       "      <td>1.23</td>\n",
       "      <td>211.7</td>\n",
       "      <td>0.0</td>\n",
       "    </tr>\n",
       "    <tr>\n",
       "      <th>27292</th>\n",
       "      <td>08.07.2020 14:10:00</td>\n",
       "      <td>990.23</td>\n",
       "      <td>14.68</td>\n",
       "      <td>288.64</td>\n",
       "      <td>84.6</td>\n",
       "      <td>1.17</td>\n",
       "      <td>250.8</td>\n",
       "      <td>0.0</td>\n",
       "    </tr>\n",
       "    <tr>\n",
       "      <th>27293</th>\n",
       "      <td>08.07.2020 14:20:00</td>\n",
       "      <td>990.27</td>\n",
       "      <td>14.47</td>\n",
       "      <td>288.43</td>\n",
       "      <td>86.1</td>\n",
       "      <td>1.24</td>\n",
       "      <td>222.6</td>\n",
       "      <td>0.0</td>\n",
       "    </tr>\n",
       "    <tr>\n",
       "      <th>27294</th>\n",
       "      <td>08.07.2020 14:30:00</td>\n",
       "      <td>990.29</td>\n",
       "      <td>14.50</td>\n",
       "      <td>288.45</td>\n",
       "      <td>86.1</td>\n",
       "      <td>1.22</td>\n",
       "      <td>203.5</td>\n",
       "      <td>0.0</td>\n",
       "    </tr>\n",
       "  </tbody>\n",
       "</table>\n",
       "<p>27295 rows × 8 columns</p>\n",
       "</div>"
      ],
      "text/plain": [
       "                 Date Time  p (mbar)  T (degC)  ...  wv (m/s)  wd (deg)  rain (mm)\n",
       "0      01.01.2020 00:10:00   1008.89      0.71  ...      1.02     224.3        0.0\n",
       "1      01.01.2020 00:20:00   1008.76      0.75  ...      0.43     206.8        0.0\n",
       "2      01.01.2020 00:30:00   1008.66      0.73  ...      0.61     197.1        0.0\n",
       "3      01.01.2020 00:40:00   1008.64      0.37  ...      1.11     206.4        0.0\n",
       "4      01.01.2020 00:50:00   1008.61      0.33  ...      0.49     209.6        0.0\n",
       "...                    ...       ...       ...  ...       ...       ...        ...\n",
       "27290  08.07.2020 13:50:00    990.23     14.77  ...      1.29     221.8        0.0\n",
       "27291  08.07.2020 14:00:00    990.23     14.75  ...      1.23     211.7        0.0\n",
       "27292  08.07.2020 14:10:00    990.23     14.68  ...      1.17     250.8        0.0\n",
       "27293  08.07.2020 14:20:00    990.27     14.47  ...      1.24     222.6        0.0\n",
       "27294  08.07.2020 14:30:00    990.29     14.50  ...      1.22     203.5        0.0\n",
       "\n",
       "[27295 rows x 8 columns]"
      ]
     },
     "execution_count": 15,
     "metadata": {
      "tags": []
     },
     "output_type": "execute_result"
    }
   ],
   "source": [
    "df # data after the removing the irrelavant column"
   ]
  },
  {
   "cell_type": "code",
   "execution_count": 16,
   "metadata": {
    "colab": {},
    "colab_type": "code",
    "id": "ukAm8YWElMAT"
   },
   "outputs": [],
   "source": [
    "features_considered = ['p (mbar)', 'T (degC)', 'rh (%)', 'wv (m/s)', 'wd (deg)', 'rain (mm)']"
   ]
  },
  {
   "cell_type": "code",
   "execution_count": 17,
   "metadata": {
    "colab": {
     "base_uri": "https://localhost:8080/",
     "height": 235
    },
    "colab_type": "code",
    "id": "RTABcNK-iXwi",
    "outputId": "6721eb2a-ef76-4953-e3c3-554194fb22c5"
   },
   "outputs": [
    {
     "data": {
      "text/html": [
       "<div>\n",
       "<style scoped>\n",
       "    .dataframe tbody tr th:only-of-type {\n",
       "        vertical-align: middle;\n",
       "    }\n",
       "\n",
       "    .dataframe tbody tr th {\n",
       "        vertical-align: top;\n",
       "    }\n",
       "\n",
       "    .dataframe thead th {\n",
       "        text-align: right;\n",
       "    }\n",
       "</style>\n",
       "<table border=\"1\" class=\"dataframe\">\n",
       "  <thead>\n",
       "    <tr style=\"text-align: right;\">\n",
       "      <th></th>\n",
       "      <th>p (mbar)</th>\n",
       "      <th>T (degC)</th>\n",
       "      <th>rh (%)</th>\n",
       "      <th>wv (m/s)</th>\n",
       "      <th>wd (deg)</th>\n",
       "      <th>rain (mm)</th>\n",
       "    </tr>\n",
       "    <tr>\n",
       "      <th>Date Time</th>\n",
       "      <th></th>\n",
       "      <th></th>\n",
       "      <th></th>\n",
       "      <th></th>\n",
       "      <th></th>\n",
       "      <th></th>\n",
       "    </tr>\n",
       "  </thead>\n",
       "  <tbody>\n",
       "    <tr>\n",
       "      <th>01.01.2020 00:10:00</th>\n",
       "      <td>1008.89</td>\n",
       "      <td>0.71</td>\n",
       "      <td>86.1</td>\n",
       "      <td>1.02</td>\n",
       "      <td>224.3</td>\n",
       "      <td>0.0</td>\n",
       "    </tr>\n",
       "    <tr>\n",
       "      <th>01.01.2020 00:20:00</th>\n",
       "      <td>1008.76</td>\n",
       "      <td>0.75</td>\n",
       "      <td>85.2</td>\n",
       "      <td>0.43</td>\n",
       "      <td>206.8</td>\n",
       "      <td>0.0</td>\n",
       "    </tr>\n",
       "    <tr>\n",
       "      <th>01.01.2020 00:30:00</th>\n",
       "      <td>1008.66</td>\n",
       "      <td>0.73</td>\n",
       "      <td>85.1</td>\n",
       "      <td>0.61</td>\n",
       "      <td>197.1</td>\n",
       "      <td>0.0</td>\n",
       "    </tr>\n",
       "    <tr>\n",
       "      <th>01.01.2020 00:40:00</th>\n",
       "      <td>1008.64</td>\n",
       "      <td>0.37</td>\n",
       "      <td>86.3</td>\n",
       "      <td>1.11</td>\n",
       "      <td>206.4</td>\n",
       "      <td>0.0</td>\n",
       "    </tr>\n",
       "    <tr>\n",
       "      <th>01.01.2020 00:50:00</th>\n",
       "      <td>1008.61</td>\n",
       "      <td>0.33</td>\n",
       "      <td>87.4</td>\n",
       "      <td>0.49</td>\n",
       "      <td>209.6</td>\n",
       "      <td>0.0</td>\n",
       "    </tr>\n",
       "  </tbody>\n",
       "</table>\n",
       "</div>"
      ],
      "text/plain": [
       "                     p (mbar)  T (degC)  rh (%)  wv (m/s)  wd (deg)  rain (mm)\n",
       "Date Time                                                                     \n",
       "01.01.2020 00:10:00   1008.89      0.71    86.1      1.02     224.3        0.0\n",
       "01.01.2020 00:20:00   1008.76      0.75    85.2      0.43     206.8        0.0\n",
       "01.01.2020 00:30:00   1008.66      0.73    85.1      0.61     197.1        0.0\n",
       "01.01.2020 00:40:00   1008.64      0.37    86.3      1.11     206.4        0.0\n",
       "01.01.2020 00:50:00   1008.61      0.33    87.4      0.49     209.6        0.0"
      ]
     },
     "execution_count": 17,
     "metadata": {
      "tags": []
     },
     "output_type": "execute_result"
    }
   ],
   "source": [
    "features = df[features_considered]\n",
    "features.index = df['Date Time']\n",
    "features.head()"
   ]
  },
  {
   "cell_type": "code",
   "execution_count": 18,
   "metadata": {
    "colab": {
     "base_uri": "https://localhost:8080/",
     "height": 428
    },
    "colab_type": "code",
    "id": "n-X4dxbhOdUW",
    "outputId": "b923905d-d779-468a-bacc-a377a9f5cabb"
   },
   "outputs": [
    {
     "data": {
      "text/plain": [
       "array([<matplotlib.axes._subplots.AxesSubplot object at 0x7ff7aed49240>,\n",
       "       <matplotlib.axes._subplots.AxesSubplot object at 0x7ff76bf06cc0>,\n",
       "       <matplotlib.axes._subplots.AxesSubplot object at 0x7ff76be7b908>,\n",
       "       <matplotlib.axes._subplots.AxesSubplot object at 0x7ff76be25b38>,\n",
       "       <matplotlib.axes._subplots.AxesSubplot object at 0x7ff76bdd9d68>,\n",
       "       <matplotlib.axes._subplots.AxesSubplot object at 0x7ff76be0cf98>],\n",
       "      dtype=object)"
      ]
     },
     "execution_count": 18,
     "metadata": {
      "tags": []
     },
     "output_type": "execute_result"
    },
    {
     "data": {
      "image/png": "[encoded data removed]",
      "text/plain": [
       "<Figure size 432x288 with 6 Axes>"
      ]
     },
     "metadata": {
      "needs_background": "light",
      "tags": []
     },
     "output_type": "display_data"
    }
   ],
   "source": [
    "features.plot(subplots=True)"
   ]
  },
  {
   "cell_type": "code",
   "execution_count": 19,
   "metadata": {
    "colab": {
     "base_uri": "https://localhost:8080/",
     "height": 419
    },
    "colab_type": "code",
    "id": "jGzMSkBPOgQw",
    "outputId": "4297ff95-9c5d-45ad-b54a-24728c26b026"
   },
   "outputs": [
    {
     "data": {
      "text/html": [
       "<div>\n",
       "<style scoped>\n",
       "    .dataframe tbody tr th:only-of-type {\n",
       "        vertical-align: middle;\n",
       "    }\n",
       "\n",
       "    .dataframe tbody tr th {\n",
       "        vertical-align: top;\n",
       "    }\n",
       "\n",
       "    .dataframe thead th {\n",
       "        text-align: right;\n",
       "    }\n",
       "</style>\n",
       "<table border=\"1\" class=\"dataframe\">\n",
       "  <thead>\n",
       "    <tr style=\"text-align: right;\">\n",
       "      <th></th>\n",
       "      <th>p (mbar)</th>\n",
       "      <th>T (degC)</th>\n",
       "    </tr>\n",
       "  </thead>\n",
       "  <tbody>\n",
       "    <tr>\n",
       "      <th>0</th>\n",
       "      <td>1008.89</td>\n",
       "      <td>0.71</td>\n",
       "    </tr>\n",
       "    <tr>\n",
       "      <th>1</th>\n",
       "      <td>1008.76</td>\n",
       "      <td>0.75</td>\n",
       "    </tr>\n",
       "    <tr>\n",
       "      <th>2</th>\n",
       "      <td>1008.66</td>\n",
       "      <td>0.73</td>\n",
       "    </tr>\n",
       "    <tr>\n",
       "      <th>3</th>\n",
       "      <td>1008.64</td>\n",
       "      <td>0.37</td>\n",
       "    </tr>\n",
       "    <tr>\n",
       "      <th>4</th>\n",
       "      <td>1008.61</td>\n",
       "      <td>0.33</td>\n",
       "    </tr>\n",
       "    <tr>\n",
       "      <th>...</th>\n",
       "      <td>...</td>\n",
       "      <td>...</td>\n",
       "    </tr>\n",
       "    <tr>\n",
       "      <th>27290</th>\n",
       "      <td>990.23</td>\n",
       "      <td>14.77</td>\n",
       "    </tr>\n",
       "    <tr>\n",
       "      <th>27291</th>\n",
       "      <td>990.23</td>\n",
       "      <td>14.75</td>\n",
       "    </tr>\n",
       "    <tr>\n",
       "      <th>27292</th>\n",
       "      <td>990.23</td>\n",
       "      <td>14.68</td>\n",
       "    </tr>\n",
       "    <tr>\n",
       "      <th>27293</th>\n",
       "      <td>990.27</td>\n",
       "      <td>14.47</td>\n",
       "    </tr>\n",
       "    <tr>\n",
       "      <th>27294</th>\n",
       "      <td>990.29</td>\n",
       "      <td>14.50</td>\n",
       "    </tr>\n",
       "  </tbody>\n",
       "</table>\n",
       "<p>27295 rows × 2 columns</p>\n",
       "</div>"
      ],
      "text/plain": [
       "       p (mbar)  T (degC)\n",
       "0       1008.89      0.71\n",
       "1       1008.76      0.75\n",
       "2       1008.66      0.73\n",
       "3       1008.64      0.37\n",
       "4       1008.61      0.33\n",
       "...         ...       ...\n",
       "27290    990.23     14.77\n",
       "27291    990.23     14.75\n",
       "27292    990.23     14.68\n",
       "27293    990.27     14.47\n",
       "27294    990.29     14.50\n",
       "\n",
       "[27295 rows x 2 columns]"
      ]
     },
     "execution_count": 19,
     "metadata": {
      "tags": []
     },
     "output_type": "execute_result"
    }
   ],
   "source": [
    "# comparing the pressure with the temperature : \n",
    "df[['p (mbar)','T (degC)']]"
   ]
  },
  {
   "cell_type": "markdown",
   "metadata": {
    "colab_type": "text",
    "id": "eFmTPIiTl7tg"
   },
   "source": [
    "# LINEAR REGRESION : "
   ]
  },
  {
   "cell_type": "code",
   "execution_count": 20,
   "metadata": {
    "colab": {},
    "colab_type": "code",
    "id": "mD9EBjSdl6UF"
   },
   "outputs": [],
   "source": [
    "df_num=df[list(df.dtypes[df.dtypes!='object'].index)]"
   ]
  },
  {
   "cell_type": "code",
   "execution_count": 21,
   "metadata": {
    "colab": {},
    "colab_type": "code",
    "id": "vO8K7S_gl6by"
   },
   "outputs": [],
   "source": [
    "df_y=df_num.pop('Tpot (K)')\n",
    "df_x=df_num"
   ]
  },
  {
   "cell_type": "code",
   "execution_count": 147,
   "metadata": {
    "colab": {},
    "colab_type": "code",
    "id": "XuugkCSVl6YA"
   },
   "outputs": [],
   "source": [
    "train_x,test_x,train_y,test_y=train_test_split(df_x,df_y,test_size=0.2,random_state=0)"
   ]
  },
  {
   "cell_type": "code",
   "execution_count": 148,
   "metadata": {
    "colab": {
     "base_uri": "https://localhost:8080/",
     "height": 204
    },
    "colab_type": "code",
    "id": "Nwy3rK_4l5c-",
    "outputId": "bc4ab774-2ee0-4480-9c30-2a696b03eabe"
   },
   "outputs": [
    {
     "data": {
      "text/html": [
       "<div>\n",
       "<style scoped>\n",
       "    .dataframe tbody tr th:only-of-type {\n",
       "        vertical-align: middle;\n",
       "    }\n",
       "\n",
       "    .dataframe tbody tr th {\n",
       "        vertical-align: top;\n",
       "    }\n",
       "\n",
       "    .dataframe thead th {\n",
       "        text-align: right;\n",
       "    }\n",
       "</style>\n",
       "<table border=\"1\" class=\"dataframe\">\n",
       "  <thead>\n",
       "    <tr style=\"text-align: right;\">\n",
       "      <th></th>\n",
       "      <th>p (mbar)</th>\n",
       "      <th>T (degC)</th>\n",
       "      <th>rh (%)</th>\n",
       "      <th>wv (m/s)</th>\n",
       "      <th>wd (deg)</th>\n",
       "      <th>rain (mm)</th>\n",
       "    </tr>\n",
       "  </thead>\n",
       "  <tbody>\n",
       "    <tr>\n",
       "      <th>22507</th>\n",
       "      <td>972.11</td>\n",
       "      <td>9.91</td>\n",
       "      <td>89.80</td>\n",
       "      <td>2.36</td>\n",
       "      <td>250.7</td>\n",
       "      <td>0.0</td>\n",
       "    </tr>\n",
       "    <tr>\n",
       "      <th>3151</th>\n",
       "      <td>1008.40</td>\n",
       "      <td>1.51</td>\n",
       "      <td>94.60</td>\n",
       "      <td>0.25</td>\n",
       "      <td>254.5</td>\n",
       "      <td>0.0</td>\n",
       "    </tr>\n",
       "    <tr>\n",
       "      <th>15028</th>\n",
       "      <td>996.54</td>\n",
       "      <td>3.36</td>\n",
       "      <td>61.96</td>\n",
       "      <td>2.37</td>\n",
       "      <td>30.5</td>\n",
       "      <td>0.0</td>\n",
       "    </tr>\n",
       "    <tr>\n",
       "      <th>12655</th>\n",
       "      <td>992.19</td>\n",
       "      <td>8.10</td>\n",
       "      <td>52.08</td>\n",
       "      <td>0.30</td>\n",
       "      <td>230.2</td>\n",
       "      <td>0.0</td>\n",
       "    </tr>\n",
       "    <tr>\n",
       "      <th>10060</th>\n",
       "      <td>979.04</td>\n",
       "      <td>9.03</td>\n",
       "      <td>82.70</td>\n",
       "      <td>6.87</td>\n",
       "      <td>208.5</td>\n",
       "      <td>0.0</td>\n",
       "    </tr>\n",
       "  </tbody>\n",
       "</table>\n",
       "</div>"
      ],
      "text/plain": [
       "       p (mbar)  T (degC)  rh (%)  wv (m/s)  wd (deg)  rain (mm)\n",
       "22507    972.11      9.91   89.80      2.36     250.7        0.0\n",
       "3151    1008.40      1.51   94.60      0.25     254.5        0.0\n",
       "15028    996.54      3.36   61.96      2.37      30.5        0.0\n",
       "12655    992.19      8.10   52.08      0.30     230.2        0.0\n",
       "10060    979.04      9.03   82.70      6.87     208.5        0.0"
      ]
     },
     "execution_count": 148,
     "metadata": {
      "tags": []
     },
     "output_type": "execute_result"
    }
   ],
   "source": [
    "train_x.head()"
   ]
  },
  {
   "cell_type": "code",
   "execution_count": 149,
   "metadata": {
    "colab": {
     "base_uri": "https://localhost:8080/",
     "height": 34
    },
    "colab_type": "code",
    "id": "ELlNiZLpl5mU",
    "outputId": "0cfbccd3-c2c1-4269-b8e6-6f552d918295"
   },
   "outputs": [
    {
     "data": {
      "text/plain": [
       "LinearRegression(copy_X=True, fit_intercept=True, n_jobs=None, normalize=False)"
      ]
     },
     "execution_count": 149,
     "metadata": {
      "tags": []
     },
     "output_type": "execute_result"
    }
   ],
   "source": [
    "model=LinearRegression()\n",
    "model.fit(train_x,train_y)"
   ]
  },
  {
   "cell_type": "code",
   "execution_count": 152,
   "metadata": {
    "colab": {},
    "colab_type": "code",
    "id": "VFdRJp7zl5Xz"
   },
   "outputs": [],
   "source": [
    "prediction=model.predict(test_x)"
   ]
  },
  {
   "cell_type": "code",
   "execution_count": 153,
   "metadata": {
    "colab": {
     "base_uri": "https://localhost:8080/",
     "height": 34
    },
    "colab_type": "code",
    "id": "bHR4-TG4l5VW",
    "outputId": "a6d59b4d-bac2-4c67-d67d-82ffec22211b"
   },
   "outputs": [
    {
     "data": {
      "text/plain": [
       "0.0003972153427985274"
      ]
     },
     "execution_count": 153,
     "metadata": {
      "tags": []
     },
     "output_type": "execute_result"
    }
   ],
   "source": [
    "np.mean((prediction-test_y)**2)"
   ]
  },
  {
   "cell_type": "code",
   "execution_count": 154,
   "metadata": {
    "colab": {
     "base_uri": "https://localhost:8080/",
     "height": 419
    },
    "colab_type": "code",
    "id": "SZfpM-bHl5TF",
    "outputId": "1d4157d3-383d-4cf5-9c2a-be5de728f17b"
   },
   "outputs": [
    {
     "data": {
      "text/html": [
       "<div>\n",
       "<style scoped>\n",
       "    .dataframe tbody tr th:only-of-type {\n",
       "        vertical-align: middle;\n",
       "    }\n",
       "\n",
       "    .dataframe tbody tr th {\n",
       "        vertical-align: top;\n",
       "    }\n",
       "\n",
       "    .dataframe thead th {\n",
       "        text-align: right;\n",
       "    }\n",
       "</style>\n",
       "<table border=\"1\" class=\"dataframe\">\n",
       "  <thead>\n",
       "    <tr style=\"text-align: right;\">\n",
       "      <th></th>\n",
       "      <th>actual</th>\n",
       "      <th>prediction</th>\n",
       "      <th>difference</th>\n",
       "    </tr>\n",
       "  </thead>\n",
       "  <tbody>\n",
       "    <tr>\n",
       "      <th>23081</th>\n",
       "      <td>287.60</td>\n",
       "      <td>287.606206</td>\n",
       "      <td>-0.006206</td>\n",
       "    </tr>\n",
       "    <tr>\n",
       "      <th>19763</th>\n",
       "      <td>279.80</td>\n",
       "      <td>279.814295</td>\n",
       "      <td>-0.014295</td>\n",
       "    </tr>\n",
       "    <tr>\n",
       "      <th>27142</th>\n",
       "      <td>291.60</td>\n",
       "      <td>291.612855</td>\n",
       "      <td>-0.012855</td>\n",
       "    </tr>\n",
       "    <tr>\n",
       "      <th>2396</th>\n",
       "      <td>281.29</td>\n",
       "      <td>281.298506</td>\n",
       "      <td>-0.008506</td>\n",
       "    </tr>\n",
       "    <tr>\n",
       "      <th>15999</th>\n",
       "      <td>279.78</td>\n",
       "      <td>279.782078</td>\n",
       "      <td>-0.002078</td>\n",
       "    </tr>\n",
       "    <tr>\n",
       "      <th>...</th>\n",
       "      <td>...</td>\n",
       "      <td>...</td>\n",
       "      <td>...</td>\n",
       "    </tr>\n",
       "    <tr>\n",
       "      <th>2942</th>\n",
       "      <td>269.21</td>\n",
       "      <td>269.123500</td>\n",
       "      <td>0.086500</td>\n",
       "    </tr>\n",
       "    <tr>\n",
       "      <th>18252</th>\n",
       "      <td>289.01</td>\n",
       "      <td>289.032708</td>\n",
       "      <td>-0.022708</td>\n",
       "    </tr>\n",
       "    <tr>\n",
       "      <th>24261</th>\n",
       "      <td>298.41</td>\n",
       "      <td>298.383654</td>\n",
       "      <td>0.026346</td>\n",
       "    </tr>\n",
       "    <tr>\n",
       "      <th>8245</th>\n",
       "      <td>276.07</td>\n",
       "      <td>276.090271</td>\n",
       "      <td>-0.020271</td>\n",
       "    </tr>\n",
       "    <tr>\n",
       "      <th>24790</th>\n",
       "      <td>288.47</td>\n",
       "      <td>288.485115</td>\n",
       "      <td>-0.015115</td>\n",
       "    </tr>\n",
       "  </tbody>\n",
       "</table>\n",
       "<p>5459 rows × 3 columns</p>\n",
       "</div>"
      ],
      "text/plain": [
       "       actual  prediction  difference\n",
       "23081  287.60  287.606206   -0.006206\n",
       "19763  279.80  279.814295   -0.014295\n",
       "27142  291.60  291.612855   -0.012855\n",
       "2396   281.29  281.298506   -0.008506\n",
       "15999  279.78  279.782078   -0.002078\n",
       "...       ...         ...         ...\n",
       "2942   269.21  269.123500    0.086500\n",
       "18252  289.01  289.032708   -0.022708\n",
       "24261  298.41  298.383654    0.026346\n",
       "8245   276.07  276.090271   -0.020271\n",
       "24790  288.47  288.485115   -0.015115\n",
       "\n",
       "[5459 rows x 3 columns]"
      ]
     },
     "execution_count": 154,
     "metadata": {
      "tags": []
     },
     "output_type": "execute_result"
    }
   ],
   "source": [
    "pd.DataFrame({'actual':test_y,'prediction':prediction,'difference':(test_y)-prediction})"
   ]
  },
  {
   "cell_type": "code",
   "execution_count": 155,
   "metadata": {
    "colab": {
     "base_uri": "https://localhost:8080/",
     "height": 34
    },
    "colab_type": "code",
    "id": "3V5q6bBcl5Qb",
    "outputId": "b275aa52-bc52-4ebc-a0c7-bf33449b364c"
   },
   "outputs": [
    {
     "data": {
      "text/plain": [
       "0.9999918345088632"
      ]
     },
     "execution_count": 155,
     "metadata": {
      "tags": []
     },
     "output_type": "execute_result"
    }
   ],
   "source": [
    "# The actual score of linear regression :\n",
    "from sklearn.metrics import r2_score\n",
    "r2_score(test_y,prediction)"
   ]
  },
  {
   "cell_type": "markdown",
   "metadata": {
    "colab_type": "text",
    "id": "a5ssvmOVmoXA"
   },
   "source": [
    "# training,testing ,prediction :"
   ]
  },
  {
   "cell_type": "code",
   "execution_count": 32,
   "metadata": {
    "colab": {
     "base_uri": "https://localhost:8080/",
     "height": 34
    },
    "colab_type": "code",
    "id": "t7FXxkuql5OL",
    "outputId": "030fc130-a7ca-4243-fbb1-b7160e1c2e8d"
   },
   "outputs": [
    {
     "data": {
      "text/plain": [
       "LinearRegression(copy_X=True, fit_intercept=True, n_jobs=None, normalize=False)"
      ]
     },
     "execution_count": 32,
     "metadata": {
      "tags": []
     },
     "output_type": "execute_result"
    }
   ],
   "source": [
    "# Build the model on Training data--> X_train and y_train\n",
    "# Sklearn library: import, instantiate, fit\n",
    "from sklearn.linear_model import LinearRegression\n",
    "lm = LinearRegression()\n",
    "lm.fit(train_x, train_y)"
   ]
  },
  {
   "cell_type": "code",
   "execution_count": 33,
   "metadata": {
    "colab": {
     "base_uri": "https://localhost:8080/",
     "height": 68
    },
    "colab_type": "code",
    "id": "UryjusPXl5L0",
    "outputId": "460e16bc-1d77-4cc0-e2ed-7be46ab0868b"
   },
   "outputs": [
    {
     "name": "stdout",
     "output_type": "stream",
     "text": [
      "354.4350138822976\n"
     ]
    },
    {
     "data": {
      "text/plain": [
       "array([-8.12888945e-02,  1.00174860e+00,  1.44420543e-05,  1.63606061e-06,\n",
       "        1.23457232e-05,  2.31364928e-04])"
      ]
     },
     "execution_count": 33,
     "metadata": {
      "tags": []
     },
     "output_type": "execute_result"
    }
   ],
   "source": [
    "# Intercept and the coefficient values\n",
    "print(lm.intercept_)\n",
    "lm.coef_"
   ]
  },
  {
   "cell_type": "code",
   "execution_count": 34,
   "metadata": {
    "colab": {
     "base_uri": "https://localhost:8080/",
     "height": 235
    },
    "colab_type": "code",
    "id": "NlKUDj8Dl5Jb",
    "outputId": "27b3eca8-d8f8-4237-c6bd-615a65928ae3"
   },
   "outputs": [
    {
     "data": {
      "text/html": [
       "<div>\n",
       "<style scoped>\n",
       "    .dataframe tbody tr th:only-of-type {\n",
       "        vertical-align: middle;\n",
       "    }\n",
       "\n",
       "    .dataframe tbody tr th {\n",
       "        vertical-align: top;\n",
       "    }\n",
       "\n",
       "    .dataframe thead th {\n",
       "        text-align: right;\n",
       "    }\n",
       "</style>\n",
       "<table border=\"1\" class=\"dataframe\">\n",
       "  <thead>\n",
       "    <tr style=\"text-align: right;\">\n",
       "      <th></th>\n",
       "      <th>0</th>\n",
       "      <th>1</th>\n",
       "    </tr>\n",
       "  </thead>\n",
       "  <tbody>\n",
       "    <tr>\n",
       "      <th>0</th>\n",
       "      <td>p (mbar)</td>\n",
       "      <td>-0.0812889</td>\n",
       "    </tr>\n",
       "    <tr>\n",
       "      <th>1</th>\n",
       "      <td>T (degC)</td>\n",
       "      <td>1.00175</td>\n",
       "    </tr>\n",
       "    <tr>\n",
       "      <th>2</th>\n",
       "      <td>rh (%)</td>\n",
       "      <td>1.44421e-05</td>\n",
       "    </tr>\n",
       "    <tr>\n",
       "      <th>3</th>\n",
       "      <td>wv (m/s)</td>\n",
       "      <td>1.63606e-06</td>\n",
       "    </tr>\n",
       "    <tr>\n",
       "      <th>4</th>\n",
       "      <td>wd (deg)</td>\n",
       "      <td>1.23457e-05</td>\n",
       "    </tr>\n",
       "    <tr>\n",
       "      <th>5</th>\n",
       "      <td>rain (mm)</td>\n",
       "      <td>0.000231365</td>\n",
       "    </tr>\n",
       "  </tbody>\n",
       "</table>\n",
       "</div>"
      ],
      "text/plain": [
       "           0            1\n",
       "0   p (mbar)   -0.0812889\n",
       "1   T (degC)      1.00175\n",
       "2     rh (%)  1.44421e-05\n",
       "3   wv (m/s)  1.63606e-06\n",
       "4   wd (deg)  1.23457e-05\n",
       "5  rain (mm)  0.000231365"
      ]
     },
     "execution_count": 34,
     "metadata": {
      "tags": []
     },
     "output_type": "execute_result"
    }
   ],
   "source": [
    "## Create a dataframe for coefficients\n",
    "coefficients = pd.DataFrame([train_x.columns, lm.coef_]).T\n",
    "coefficients"
   ]
  },
  {
   "cell_type": "code",
   "execution_count": 35,
   "metadata": {
    "colab": {
     "base_uri": "https://localhost:8080/",
     "height": 51
    },
    "colab_type": "code",
    "id": "5ONhr6Qql5Gm",
    "outputId": "f7778648-88e1-40d1-d06a-bed8ac5b09f4"
   },
   "outputs": [
    {
     "data": {
      "text/plain": [
       "array([287.24400168, 288.17854775, 277.89708718, ..., 271.58603475,\n",
       "       278.76662918, 278.87808233])"
      ]
     },
     "execution_count": 35,
     "metadata": {
      "tags": []
     },
     "output_type": "execute_result"
    }
   ],
   "source": [
    "## Checking the model prediction on training data\n",
    "y_train_pred = lm.predict(train_x)\n",
    "y_train_pred"
   ]
  },
  {
   "cell_type": "code",
   "execution_count": 36,
   "metadata": {
    "colab": {
     "base_uri": "https://localhost:8080/",
     "height": 102
    },
    "colab_type": "code",
    "id": "KOvhUlZ_mz1h",
    "outputId": "a70c8440-c889-4698-d074-7867925e6226"
   },
   "outputs": [
    {
     "name": "stdout",
     "output_type": "stream",
     "text": [
      "R^2: 0.9999919817175688\n",
      "Adjusted R^2: 0.9999919793666259\n",
      "MAE: 0.014570474614067094\n",
      "MSE: 0.00039315507591636896\n",
      "RMSE 0.01982813848843025\n"
     ]
    }
   ],
   "source": [
    "## We need to compare the actual values(y_train) and the predicted values(y_train_pred)\n",
    "\n",
    "from sklearn.metrics import r2_score, mean_absolute_error, mean_squared_error\n",
    "print('R^2:', r2_score(train_y,y_train_pred))\n",
    "print('Adjusted R^2:', 1- (1-r2_score(train_y, y_train_pred))*(len(train_x)-1)/(len(train_x)-train_x.shape[1]-1))\n",
    "print('MAE:', mean_absolute_error(train_y, y_train_pred))\n",
    "print('MSE:', mean_squared_error(train_y, y_train_pred))\n",
    "print('RMSE', np.sqrt(mean_squared_error(train_y, y_train_pred)))"
   ]
  },
  {
   "cell_type": "code",
   "execution_count": 37,
   "metadata": {
    "colab": {
     "base_uri": "https://localhost:8080/",
     "height": 296
    },
    "colab_type": "code",
    "id": "ZTgrPpHImzym",
    "outputId": "12665ce5-2d55-4a99-a4e7-961ce721e507"
   },
   "outputs": [
    {
     "data": {
      "text/plain": [
       "<matplotlib.axes._subplots.AxesSubplot at 0x7ff76bccdd68>"
      ]
     },
     "execution_count": 37,
     "metadata": {
      "tags": []
     },
     "output_type": "execute_result"
    },
    {
     "data": {
      "image/png": "[encoded data removed]",
      "text/plain": [
       "<Figure size 432x288 with 1 Axes>"
      ]
     },
     "metadata": {
      "needs_background": "light",
      "tags": []
     },
     "output_type": "display_data"
    }
   ],
   "source": [
    "## regplot(y_train--> actual values and y_train_pred--> predicted values)\n",
    "sns.regplot(train_y, y_train_pred)"
   ]
  },
  {
   "cell_type": "code",
   "execution_count": 138,
   "metadata": {
    "colab": {
     "base_uri": "https://localhost:8080/",
     "height": 51
    },
    "colab_type": "code",
    "id": "PY-oNMpHmzvc",
    "outputId": "9d590bbb-9a60-4ac5-e8f5-b71757648d05"
   },
   "outputs": [
    {
     "data": {
      "text/plain": [
       "array([289.95274352, 279.52429024, 293.0197521 , ..., 288.49897884,\n",
       "       293.84574524, 288.56998002])"
      ]
     },
     "execution_count": 138,
     "metadata": {
      "tags": []
     },
     "output_type": "execute_result"
    }
   ],
   "source": [
    "## Test the model on testing data\n",
    "y_test_pred = lm.predict(test_x)  # test data--> unseen data\n",
    "y_test_pred"
   ]
  },
  {
   "cell_type": "code",
   "execution_count": 39,
   "metadata": {
    "colab": {
     "base_uri": "https://localhost:8080/",
     "height": 102
    },
    "colab_type": "code",
    "id": "k6UUijGQmzr8",
    "outputId": "73b9cbb7-aaa7-4221-8c7a-6e554b8200c9"
   },
   "outputs": [
    {
     "name": "stdout",
     "output_type": "stream",
     "text": [
      "R^2: 0.9999917854507109\n",
      "Adjusted R^2: 0.9999917782206543\n",
      "MAE: 0.014752781605343343\n",
      "MSE: 0.0004068274842570753\n",
      "RMSE 0.02016996490470609\n"
     ]
    }
   ],
   "source": [
    "## We need to compare the actual values(y_test) and the predicted values(y_test_pred)\n",
    "    \n",
    "from sklearn.metrics import r2_score, mean_absolute_error, mean_squared_error\n",
    "print('R^2:', r2_score(test_y,y_test_pred))\n",
    "print('Adjusted R^2:', 1- (1-r2_score(test_y, y_test_pred))*(len(test_x)-1)/(len(test_x)-test_x.shape[1]-1))\n",
    "print('MAE:', mean_absolute_error(test_y, y_test_pred))\n",
    "print('MSE:', mean_squared_error(test_y, y_test_pred))\n",
    "print('RMSE', np.sqrt(mean_squared_error(test_y, y_test_pred)))"
   ]
  },
  {
   "cell_type": "code",
   "execution_count": 131,
   "metadata": {
    "colab": {
     "base_uri": "https://localhost:8080/",
     "height": 34
    },
    "colab_type": "code",
    "id": "e8nO5mj2l5DM",
    "outputId": "e069ed54-298e-4ecd-a62d-cd93dc80045d"
   },
   "outputs": [
    {
     "data": {
      "text/plain": [
       "99.99917854507109"
      ]
     },
     "execution_count": 131,
     "metadata": {
      "tags": []
     },
     "output_type": "execute_result"
    }
   ],
   "source": [
    "#accuracy score for linear regression\n",
    "lm_score = (lm.score(test_x,test_y))*100\n",
    "lm_score"
   ]
  },
  {
   "cell_type": "markdown",
   "metadata": {
    "colab_type": "text",
    "id": "GmbCl2Q0RtNE"
   },
   "source": [
    "# train model : rnn/lstm"
   ]
  },
  {
   "cell_type": "code",
   "execution_count": 84,
   "metadata": {
    "colab": {
     "base_uri": "https://localhost:8080/",
     "height": 272
    },
    "colab_type": "code",
    "id": "VPYb2AF1J-eb",
    "outputId": "7e2b0cac-b627-4501-c3c8-8d86e9d4fe17"
   },
   "outputs": [
    {
     "name": "stdout",
     "output_type": "stream",
     "text": [
      "[0    0.71\n",
      "1    0.75\n",
      "2    0.73\n",
      "3    0.37\n",
      "4    0.33\n",
      "5    0.34\n",
      "6    0.19\n",
      "Name: T (degC), dtype: float64, 1    0.75\n",
      "2    0.73\n",
      "3    0.37\n",
      "4    0.33\n",
      "5    0.34\n",
      "6    0.19\n",
      "7    0.03\n",
      "Name: T (degC), dtype: float64]\n"
     ]
    }
   ],
   "source": [
    "# preparing the data\n",
    "# features and target\n",
    "# input and output \n",
    "# last 7 days data\n",
    "X = [] ## input\n",
    "y = [] ## ouput\n",
    "for i  in range(df.shape[0]-7-1):   \n",
    "  X.append(df['T (degC)'][i:i+7])# 0 -->[0:7], 1-->[1:8]\n",
    "  y.append(df['T (degC)'][i+7])# 7,8,9\n",
    "print(X[:2])"
   ]
  },
  {
   "cell_type": "code",
   "execution_count": 85,
   "metadata": {
    "colab": {},
    "colab_type": "code",
    "id": "hAS_P_9kKnzQ"
   },
   "outputs": [],
   "source": [
    "import numpy as np\n",
    "X = np.array(X)"
   ]
  },
  {
   "cell_type": "code",
   "execution_count": 86,
   "metadata": {
    "colab": {
     "base_uri": "https://localhost:8080/",
     "height": 204
    },
    "colab_type": "code",
    "id": "2hWhZ9oc3vW0",
    "outputId": "c25f801c-e7f6-40ec-e62a-1174886ffcde"
   },
   "outputs": [
    {
     "data": {
      "text/html": [
       "<div>\n",
       "<style scoped>\n",
       "    .dataframe tbody tr th:only-of-type {\n",
       "        vertical-align: middle;\n",
       "    }\n",
       "\n",
       "    .dataframe tbody tr th {\n",
       "        vertical-align: top;\n",
       "    }\n",
       "\n",
       "    .dataframe thead th {\n",
       "        text-align: right;\n",
       "    }\n",
       "</style>\n",
       "<table border=\"1\" class=\"dataframe\">\n",
       "  <thead>\n",
       "    <tr style=\"text-align: right;\">\n",
       "      <th></th>\n",
       "      <th>d1</th>\n",
       "      <th>d2</th>\n",
       "      <th>d3</th>\n",
       "      <th>d4</th>\n",
       "      <th>d5</th>\n",
       "      <th>d6</th>\n",
       "      <th>d7</th>\n",
       "    </tr>\n",
       "  </thead>\n",
       "  <tbody>\n",
       "    <tr>\n",
       "      <th>0</th>\n",
       "      <td>0.71</td>\n",
       "      <td>0.75</td>\n",
       "      <td>0.73</td>\n",
       "      <td>0.37</td>\n",
       "      <td>0.33</td>\n",
       "      <td>0.34</td>\n",
       "      <td>0.19</td>\n",
       "    </tr>\n",
       "    <tr>\n",
       "      <th>1</th>\n",
       "      <td>0.75</td>\n",
       "      <td>0.73</td>\n",
       "      <td>0.37</td>\n",
       "      <td>0.33</td>\n",
       "      <td>0.34</td>\n",
       "      <td>0.19</td>\n",
       "      <td>0.03</td>\n",
       "    </tr>\n",
       "    <tr>\n",
       "      <th>2</th>\n",
       "      <td>0.73</td>\n",
       "      <td>0.37</td>\n",
       "      <td>0.33</td>\n",
       "      <td>0.34</td>\n",
       "      <td>0.19</td>\n",
       "      <td>0.03</td>\n",
       "      <td>0.11</td>\n",
       "    </tr>\n",
       "    <tr>\n",
       "      <th>3</th>\n",
       "      <td>0.37</td>\n",
       "      <td>0.33</td>\n",
       "      <td>0.34</td>\n",
       "      <td>0.19</td>\n",
       "      <td>0.03</td>\n",
       "      <td>0.11</td>\n",
       "      <td>0.22</td>\n",
       "    </tr>\n",
       "    <tr>\n",
       "      <th>4</th>\n",
       "      <td>0.33</td>\n",
       "      <td>0.34</td>\n",
       "      <td>0.19</td>\n",
       "      <td>0.03</td>\n",
       "      <td>0.11</td>\n",
       "      <td>0.22</td>\n",
       "      <td>-0.04</td>\n",
       "    </tr>\n",
       "  </tbody>\n",
       "</table>\n",
       "</div>"
      ],
      "text/plain": [
       "     d1    d2    d3    d4    d5    d6    d7\n",
       "0  0.71  0.75  0.73  0.37  0.33  0.34  0.19\n",
       "1  0.75  0.73  0.37  0.33  0.34  0.19  0.03\n",
       "2  0.73  0.37  0.33  0.34  0.19  0.03  0.11\n",
       "3  0.37  0.33  0.34  0.19  0.03  0.11  0.22\n",
       "4  0.33  0.34  0.19  0.03  0.11  0.22 -0.04"
      ]
     },
     "execution_count": 86,
     "metadata": {
      "tags": []
     },
     "output_type": "execute_result"
    }
   ],
   "source": [
    "df1  = pd.DataFrame(X,columns=['d1','d2','d3','d4','d5','d6','d7'])\n",
    "df1.head()"
   ]
  },
  {
   "cell_type": "code",
   "execution_count": 87,
   "metadata": {
    "colab": {
     "base_uri": "https://localhost:8080/",
     "height": 204
    },
    "colab_type": "code",
    "id": "gHTs8RfZ3zBd",
    "outputId": "34a43675-4290-417e-83d6-b46777a30007"
   },
   "outputs": [
    {
     "data": {
      "text/html": [
       "<div>\n",
       "<style scoped>\n",
       "    .dataframe tbody tr th:only-of-type {\n",
       "        vertical-align: middle;\n",
       "    }\n",
       "\n",
       "    .dataframe tbody tr th {\n",
       "        vertical-align: top;\n",
       "    }\n",
       "\n",
       "    .dataframe thead th {\n",
       "        text-align: right;\n",
       "    }\n",
       "</style>\n",
       "<table border=\"1\" class=\"dataframe\">\n",
       "  <thead>\n",
       "    <tr style=\"text-align: right;\">\n",
       "      <th></th>\n",
       "      <th>d1</th>\n",
       "      <th>d2</th>\n",
       "      <th>d3</th>\n",
       "      <th>d4</th>\n",
       "      <th>d5</th>\n",
       "      <th>d6</th>\n",
       "      <th>d7</th>\n",
       "      <th>d8</th>\n",
       "    </tr>\n",
       "  </thead>\n",
       "  <tbody>\n",
       "    <tr>\n",
       "      <th>0</th>\n",
       "      <td>0.71</td>\n",
       "      <td>0.75</td>\n",
       "      <td>0.73</td>\n",
       "      <td>0.37</td>\n",
       "      <td>0.33</td>\n",
       "      <td>0.34</td>\n",
       "      <td>0.19</td>\n",
       "      <td>0.03</td>\n",
       "    </tr>\n",
       "    <tr>\n",
       "      <th>1</th>\n",
       "      <td>0.75</td>\n",
       "      <td>0.73</td>\n",
       "      <td>0.37</td>\n",
       "      <td>0.33</td>\n",
       "      <td>0.34</td>\n",
       "      <td>0.19</td>\n",
       "      <td>0.03</td>\n",
       "      <td>0.11</td>\n",
       "    </tr>\n",
       "    <tr>\n",
       "      <th>2</th>\n",
       "      <td>0.73</td>\n",
       "      <td>0.37</td>\n",
       "      <td>0.33</td>\n",
       "      <td>0.34</td>\n",
       "      <td>0.19</td>\n",
       "      <td>0.03</td>\n",
       "      <td>0.11</td>\n",
       "      <td>0.22</td>\n",
       "    </tr>\n",
       "    <tr>\n",
       "      <th>3</th>\n",
       "      <td>0.37</td>\n",
       "      <td>0.33</td>\n",
       "      <td>0.34</td>\n",
       "      <td>0.19</td>\n",
       "      <td>0.03</td>\n",
       "      <td>0.11</td>\n",
       "      <td>0.22</td>\n",
       "      <td>-0.04</td>\n",
       "    </tr>\n",
       "    <tr>\n",
       "      <th>4</th>\n",
       "      <td>0.33</td>\n",
       "      <td>0.34</td>\n",
       "      <td>0.19</td>\n",
       "      <td>0.03</td>\n",
       "      <td>0.11</td>\n",
       "      <td>0.22</td>\n",
       "      <td>-0.04</td>\n",
       "      <td>-0.21</td>\n",
       "    </tr>\n",
       "  </tbody>\n",
       "</table>\n",
       "</div>"
      ],
      "text/plain": [
       "     d1    d2    d3    d4    d5    d6    d7    d8\n",
       "0  0.71  0.75  0.73  0.37  0.33  0.34  0.19  0.03\n",
       "1  0.75  0.73  0.37  0.33  0.34  0.19  0.03  0.11\n",
       "2  0.73  0.37  0.33  0.34  0.19  0.03  0.11  0.22\n",
       "3  0.37  0.33  0.34  0.19  0.03  0.11  0.22 -0.04\n",
       "4  0.33  0.34  0.19  0.03  0.11  0.22 -0.04 -0.21"
      ]
     },
     "execution_count": 87,
     "metadata": {
      "tags": []
     },
     "output_type": "execute_result"
    }
   ],
   "source": [
    "df1['d8'] = y\n",
    "df1.head()\n"
   ]
  },
  {
   "cell_type": "code",
   "execution_count": 88,
   "metadata": {
    "colab": {
     "base_uri": "https://localhost:8080/",
     "height": 204
    },
    "colab_type": "code",
    "id": "ONsBFlft3_cM",
    "outputId": "e276f3dc-39e6-4000-f396-55289c59433a"
   },
   "outputs": [
    {
     "data": {
      "text/html": [
       "<div>\n",
       "<style scoped>\n",
       "    .dataframe tbody tr th:only-of-type {\n",
       "        vertical-align: middle;\n",
       "    }\n",
       "\n",
       "    .dataframe tbody tr th {\n",
       "        vertical-align: top;\n",
       "    }\n",
       "\n",
       "    .dataframe thead th {\n",
       "        text-align: right;\n",
       "    }\n",
       "</style>\n",
       "<table border=\"1\" class=\"dataframe\">\n",
       "  <thead>\n",
       "    <tr style=\"text-align: right;\">\n",
       "      <th></th>\n",
       "      <th>d1</th>\n",
       "      <th>d2</th>\n",
       "      <th>d3</th>\n",
       "      <th>d4</th>\n",
       "      <th>d5</th>\n",
       "      <th>d6</th>\n",
       "      <th>d7</th>\n",
       "      <th>d8</th>\n",
       "    </tr>\n",
       "  </thead>\n",
       "  <tbody>\n",
       "    <tr>\n",
       "      <th>0</th>\n",
       "      <td>0.71</td>\n",
       "      <td>0.75</td>\n",
       "      <td>0.73</td>\n",
       "      <td>0.37</td>\n",
       "      <td>0.33</td>\n",
       "      <td>0.34</td>\n",
       "      <td>0.19</td>\n",
       "      <td>0.03</td>\n",
       "    </tr>\n",
       "    <tr>\n",
       "      <th>1</th>\n",
       "      <td>0.75</td>\n",
       "      <td>0.73</td>\n",
       "      <td>0.37</td>\n",
       "      <td>0.33</td>\n",
       "      <td>0.34</td>\n",
       "      <td>0.19</td>\n",
       "      <td>0.03</td>\n",
       "      <td>0.11</td>\n",
       "    </tr>\n",
       "    <tr>\n",
       "      <th>2</th>\n",
       "      <td>0.73</td>\n",
       "      <td>0.37</td>\n",
       "      <td>0.33</td>\n",
       "      <td>0.34</td>\n",
       "      <td>0.19</td>\n",
       "      <td>0.03</td>\n",
       "      <td>0.11</td>\n",
       "      <td>0.22</td>\n",
       "    </tr>\n",
       "    <tr>\n",
       "      <th>3</th>\n",
       "      <td>0.37</td>\n",
       "      <td>0.33</td>\n",
       "      <td>0.34</td>\n",
       "      <td>0.19</td>\n",
       "      <td>0.03</td>\n",
       "      <td>0.11</td>\n",
       "      <td>0.22</td>\n",
       "      <td>-0.04</td>\n",
       "    </tr>\n",
       "    <tr>\n",
       "      <th>4</th>\n",
       "      <td>0.33</td>\n",
       "      <td>0.34</td>\n",
       "      <td>0.19</td>\n",
       "      <td>0.03</td>\n",
       "      <td>0.11</td>\n",
       "      <td>0.22</td>\n",
       "      <td>-0.04</td>\n",
       "      <td>-0.21</td>\n",
       "    </tr>\n",
       "  </tbody>\n",
       "</table>\n",
       "</div>"
      ],
      "text/plain": [
       "     d1    d2    d3    d4    d5    d6    d7    d8\n",
       "0  0.71  0.75  0.73  0.37  0.33  0.34  0.19  0.03\n",
       "1  0.75  0.73  0.37  0.33  0.34  0.19  0.03  0.11\n",
       "2  0.73  0.37  0.33  0.34  0.19  0.03  0.11  0.22\n",
       "3  0.37  0.33  0.34  0.19  0.03  0.11  0.22 -0.04\n",
       "4  0.33  0.34  0.19  0.03  0.11  0.22 -0.04 -0.21"
      ]
     },
     "execution_count": 88,
     "metadata": {
      "tags": []
     },
     "output_type": "execute_result"
    }
   ],
   "source": [
    "df1['d8'] = y\n",
    "df1.head()\n"
   ]
  },
  {
   "cell_type": "code",
   "execution_count": 89,
   "metadata": {
    "colab": {
     "base_uri": "https://localhost:8080/",
     "height": 465
    },
    "colab_type": "code",
    "id": "qiV9pYDb8nWO",
    "outputId": "babeeb84-a677-441f-a936-c96cdeebe647"
   },
   "outputs": [
    {
     "data": {
      "text/html": [
       "<div>\n",
       "<style scoped>\n",
       "    .dataframe tbody tr th:only-of-type {\n",
       "        vertical-align: middle;\n",
       "    }\n",
       "\n",
       "    .dataframe tbody tr th {\n",
       "        vertical-align: top;\n",
       "    }\n",
       "\n",
       "    .dataframe thead th {\n",
       "        text-align: right;\n",
       "    }\n",
       "</style>\n",
       "<table border=\"1\" class=\"dataframe\">\n",
       "  <thead>\n",
       "    <tr style=\"text-align: right;\">\n",
       "      <th></th>\n",
       "      <th>0</th>\n",
       "      <th>1</th>\n",
       "      <th>2</th>\n",
       "      <th>3</th>\n",
       "      <th>4</th>\n",
       "      <th>5</th>\n",
       "      <th>6</th>\n",
       "      <th>7</th>\n",
       "      <th>8</th>\n",
       "      <th>9</th>\n",
       "      <th>10</th>\n",
       "      <th>11</th>\n",
       "      <th>12</th>\n",
       "      <th>13</th>\n",
       "      <th>14</th>\n",
       "      <th>15</th>\n",
       "      <th>16</th>\n",
       "      <th>17</th>\n",
       "      <th>18</th>\n",
       "      <th>19</th>\n",
       "      <th>20</th>\n",
       "      <th>21</th>\n",
       "      <th>22</th>\n",
       "      <th>23</th>\n",
       "      <th>24</th>\n",
       "      <th>25</th>\n",
       "      <th>26</th>\n",
       "      <th>27</th>\n",
       "      <th>28</th>\n",
       "      <th>29</th>\n",
       "      <th>30</th>\n",
       "      <th>31</th>\n",
       "      <th>32</th>\n",
       "      <th>33</th>\n",
       "      <th>34</th>\n",
       "      <th>35</th>\n",
       "      <th>36</th>\n",
       "      <th>37</th>\n",
       "      <th>38</th>\n",
       "      <th>39</th>\n",
       "      <th>...</th>\n",
       "      <th>27255</th>\n",
       "      <th>27256</th>\n",
       "      <th>27257</th>\n",
       "      <th>27258</th>\n",
       "      <th>27259</th>\n",
       "      <th>27260</th>\n",
       "      <th>27261</th>\n",
       "      <th>27262</th>\n",
       "      <th>27263</th>\n",
       "      <th>27264</th>\n",
       "      <th>27265</th>\n",
       "      <th>27266</th>\n",
       "      <th>27267</th>\n",
       "      <th>27268</th>\n",
       "      <th>27269</th>\n",
       "      <th>27270</th>\n",
       "      <th>27271</th>\n",
       "      <th>27272</th>\n",
       "      <th>27273</th>\n",
       "      <th>27274</th>\n",
       "      <th>27275</th>\n",
       "      <th>27276</th>\n",
       "      <th>27277</th>\n",
       "      <th>27278</th>\n",
       "      <th>27279</th>\n",
       "      <th>27280</th>\n",
       "      <th>27281</th>\n",
       "      <th>27282</th>\n",
       "      <th>27283</th>\n",
       "      <th>27284</th>\n",
       "      <th>27285</th>\n",
       "      <th>27286</th>\n",
       "      <th>27287</th>\n",
       "      <th>27288</th>\n",
       "      <th>27289</th>\n",
       "      <th>27290</th>\n",
       "      <th>27291</th>\n",
       "      <th>27292</th>\n",
       "      <th>27293</th>\n",
       "      <th>27294</th>\n",
       "    </tr>\n",
       "  </thead>\n",
       "  <tbody>\n",
       "    <tr>\n",
       "      <th>Date Time</th>\n",
       "      <td>01.01.2020 00:10:00</td>\n",
       "      <td>01.01.2020 00:20:00</td>\n",
       "      <td>01.01.2020 00:30:00</td>\n",
       "      <td>01.01.2020 00:40:00</td>\n",
       "      <td>01.01.2020 00:50:00</td>\n",
       "      <td>01.01.2020 01:00:00</td>\n",
       "      <td>01.01.2020 01:10:00</td>\n",
       "      <td>01.01.2020 01:20:00</td>\n",
       "      <td>01.01.2020 01:30:00</td>\n",
       "      <td>01.01.2020 01:40:00</td>\n",
       "      <td>01.01.2020 01:50:00</td>\n",
       "      <td>01.01.2020 02:00:00</td>\n",
       "      <td>01.01.2020 02:10:00</td>\n",
       "      <td>01.01.2020 02:20:00</td>\n",
       "      <td>01.01.2020 02:30:00</td>\n",
       "      <td>01.01.2020 02:40:00</td>\n",
       "      <td>01.01.2020 02:50:00</td>\n",
       "      <td>01.01.2020 03:00:00</td>\n",
       "      <td>01.01.2020 03:10:00</td>\n",
       "      <td>01.01.2020 03:20:00</td>\n",
       "      <td>01.01.2020 03:30:00</td>\n",
       "      <td>01.01.2020 03:40:00</td>\n",
       "      <td>01.01.2020 03:50:00</td>\n",
       "      <td>01.01.2020 04:00:00</td>\n",
       "      <td>01.01.2020 04:10:00</td>\n",
       "      <td>01.01.2020 04:20:00</td>\n",
       "      <td>01.01.2020 04:30:00</td>\n",
       "      <td>01.01.2020 04:40:00</td>\n",
       "      <td>01.01.2020 04:50:00</td>\n",
       "      <td>01.01.2020 05:00:00</td>\n",
       "      <td>01.01.2020 05:10:00</td>\n",
       "      <td>01.01.2020 05:20:00</td>\n",
       "      <td>01.01.2020 05:30:00</td>\n",
       "      <td>01.01.2020 05:40:00</td>\n",
       "      <td>01.01.2020 05:50:00</td>\n",
       "      <td>01.01.2020 06:00:00</td>\n",
       "      <td>01.01.2020 06:10:00</td>\n",
       "      <td>01.01.2020 06:20:00</td>\n",
       "      <td>01.01.2020 06:30:00</td>\n",
       "      <td>01.01.2020 06:40:00</td>\n",
       "      <td>...</td>\n",
       "      <td>08.07.2020 08:00:00</td>\n",
       "      <td>08.07.2020 08:10:00</td>\n",
       "      <td>08.07.2020 08:20:00</td>\n",
       "      <td>08.07.2020 08:30:00</td>\n",
       "      <td>08.07.2020 08:40:00</td>\n",
       "      <td>08.07.2020 08:50:00</td>\n",
       "      <td>08.07.2020 09:00:00</td>\n",
       "      <td>08.07.2020 09:10:00</td>\n",
       "      <td>08.07.2020 09:20:00</td>\n",
       "      <td>08.07.2020 09:30:00</td>\n",
       "      <td>08.07.2020 09:40:00</td>\n",
       "      <td>08.07.2020 09:50:00</td>\n",
       "      <td>08.07.2020 10:00:00</td>\n",
       "      <td>08.07.2020 10:10:00</td>\n",
       "      <td>08.07.2020 10:20:00</td>\n",
       "      <td>08.07.2020 10:30:00</td>\n",
       "      <td>08.07.2020 10:40:00</td>\n",
       "      <td>08.07.2020 10:50:00</td>\n",
       "      <td>08.07.2020 11:00:00</td>\n",
       "      <td>08.07.2020 11:10:00</td>\n",
       "      <td>08.07.2020 11:20:00</td>\n",
       "      <td>08.07.2020 11:30:00</td>\n",
       "      <td>08.07.2020 11:40:00</td>\n",
       "      <td>08.07.2020 11:50:00</td>\n",
       "      <td>08.07.2020 12:00:00</td>\n",
       "      <td>08.07.2020 12:10:00</td>\n",
       "      <td>08.07.2020 12:20:00</td>\n",
       "      <td>08.07.2020 12:30:00</td>\n",
       "      <td>08.07.2020 12:40:00</td>\n",
       "      <td>08.07.2020 12:50:00</td>\n",
       "      <td>08.07.2020 13:00:00</td>\n",
       "      <td>08.07.2020 13:10:00</td>\n",
       "      <td>08.07.2020 13:20:00</td>\n",
       "      <td>08.07.2020 13:30:00</td>\n",
       "      <td>08.07.2020 13:40:00</td>\n",
       "      <td>08.07.2020 13:50:00</td>\n",
       "      <td>08.07.2020 14:00:00</td>\n",
       "      <td>08.07.2020 14:10:00</td>\n",
       "      <td>08.07.2020 14:20:00</td>\n",
       "      <td>08.07.2020 14:30:00</td>\n",
       "    </tr>\n",
       "    <tr>\n",
       "      <th>p (mbar)</th>\n",
       "      <td>1008.89</td>\n",
       "      <td>1008.76</td>\n",
       "      <td>1008.66</td>\n",
       "      <td>1008.64</td>\n",
       "      <td>1008.61</td>\n",
       "      <td>1008.44</td>\n",
       "      <td>1008.49</td>\n",
       "      <td>1008.4</td>\n",
       "      <td>1008.29</td>\n",
       "      <td>1008.28</td>\n",
       "      <td>1008.24</td>\n",
       "      <td>1008.32</td>\n",
       "      <td>1008.24</td>\n",
       "      <td>1008.35</td>\n",
       "      <td>1008.3</td>\n",
       "      <td>1008.4</td>\n",
       "      <td>1008.39</td>\n",
       "      <td>1008.46</td>\n",
       "      <td>1008.15</td>\n",
       "      <td>1008.07</td>\n",
       "      <td>1008.12</td>\n",
       "      <td>1008.04</td>\n",
       "      <td>1008.16</td>\n",
       "      <td>1008</td>\n",
       "      <td>1007.76</td>\n",
       "      <td>1007.84</td>\n",
       "      <td>1007.85</td>\n",
       "      <td>1008.02</td>\n",
       "      <td>1007.92</td>\n",
       "      <td>1007.63</td>\n",
       "      <td>1007.63</td>\n",
       "      <td>1007.9</td>\n",
       "      <td>1007.99</td>\n",
       "      <td>1007.85</td>\n",
       "      <td>1007.81</td>\n",
       "      <td>1007.81</td>\n",
       "      <td>1007.91</td>\n",
       "      <td>1008.06</td>\n",
       "      <td>1008.22</td>\n",
       "      <td>1008.19</td>\n",
       "      <td>...</td>\n",
       "      <td>989.24</td>\n",
       "      <td>989.34</td>\n",
       "      <td>989.24</td>\n",
       "      <td>989.3</td>\n",
       "      <td>989.36</td>\n",
       "      <td>989.31</td>\n",
       "      <td>989.31</td>\n",
       "      <td>989.32</td>\n",
       "      <td>989.32</td>\n",
       "      <td>989.26</td>\n",
       "      <td>989.26</td>\n",
       "      <td>989.35</td>\n",
       "      <td>989.37</td>\n",
       "      <td>989.4</td>\n",
       "      <td>989.5</td>\n",
       "      <td>989.54</td>\n",
       "      <td>989.59</td>\n",
       "      <td>989.65</td>\n",
       "      <td>989.75</td>\n",
       "      <td>989.82</td>\n",
       "      <td>989.96</td>\n",
       "      <td>990.06</td>\n",
       "      <td>990.09</td>\n",
       "      <td>990.1</td>\n",
       "      <td>990.05</td>\n",
       "      <td>990.07</td>\n",
       "      <td>990.13</td>\n",
       "      <td>990.15</td>\n",
       "      <td>990.15</td>\n",
       "      <td>990.16</td>\n",
       "      <td>990.17</td>\n",
       "      <td>990.15</td>\n",
       "      <td>990.11</td>\n",
       "      <td>990.11</td>\n",
       "      <td>990.19</td>\n",
       "      <td>990.23</td>\n",
       "      <td>990.23</td>\n",
       "      <td>990.23</td>\n",
       "      <td>990.27</td>\n",
       "      <td>990.29</td>\n",
       "    </tr>\n",
       "    <tr>\n",
       "      <th>T (degC)</th>\n",
       "      <td>0.71</td>\n",
       "      <td>0.75</td>\n",
       "      <td>0.73</td>\n",
       "      <td>0.37</td>\n",
       "      <td>0.33</td>\n",
       "      <td>0.34</td>\n",
       "      <td>0.19</td>\n",
       "      <td>0.03</td>\n",
       "      <td>0.11</td>\n",
       "      <td>0.22</td>\n",
       "      <td>-0.04</td>\n",
       "      <td>-0.21</td>\n",
       "      <td>-0.1</td>\n",
       "      <td>-0.16</td>\n",
       "      <td>-0.22</td>\n",
       "      <td>-0.06</td>\n",
       "      <td>-0.17</td>\n",
       "      <td>-0.05</td>\n",
       "      <td>-0.21</td>\n",
       "      <td>-0.77</td>\n",
       "      <td>-0.93</td>\n",
       "      <td>-0.86</td>\n",
       "      <td>-0.87</td>\n",
       "      <td>-1.02</td>\n",
       "      <td>-1.15</td>\n",
       "      <td>-1.08</td>\n",
       "      <td>-1.59</td>\n",
       "      <td>-1.82</td>\n",
       "      <td>-1.84</td>\n",
       "      <td>-1.84</td>\n",
       "      <td>-2.14</td>\n",
       "      <td>-2.34</td>\n",
       "      <td>-2.2</td>\n",
       "      <td>-2.3</td>\n",
       "      <td>-2.4</td>\n",
       "      <td>-2.51</td>\n",
       "      <td>-2.83</td>\n",
       "      <td>-2.79</td>\n",
       "      <td>-2.74</td>\n",
       "      <td>-2.63</td>\n",
       "      <td>...</td>\n",
       "      <td>12.62</td>\n",
       "      <td>12.64</td>\n",
       "      <td>12.62</td>\n",
       "      <td>12.71</td>\n",
       "      <td>12.83</td>\n",
       "      <td>12.96</td>\n",
       "      <td>13.06</td>\n",
       "      <td>13.19</td>\n",
       "      <td>13.49</td>\n",
       "      <td>13.63</td>\n",
       "      <td>13.59</td>\n",
       "      <td>13.49</td>\n",
       "      <td>13.33</td>\n",
       "      <td>13.08</td>\n",
       "      <td>13.01</td>\n",
       "      <td>12.84</td>\n",
       "      <td>12.74</td>\n",
       "      <td>12.75</td>\n",
       "      <td>12.85</td>\n",
       "      <td>13.02</td>\n",
       "      <td>13.29</td>\n",
       "      <td>13.36</td>\n",
       "      <td>13.43</td>\n",
       "      <td>13.43</td>\n",
       "      <td>13.39</td>\n",
       "      <td>13.49</td>\n",
       "      <td>13.6</td>\n",
       "      <td>13.69</td>\n",
       "      <td>13.97</td>\n",
       "      <td>14.16</td>\n",
       "      <td>14.31</td>\n",
       "      <td>14.32</td>\n",
       "      <td>14.53</td>\n",
       "      <td>14.51</td>\n",
       "      <td>14.6</td>\n",
       "      <td>14.77</td>\n",
       "      <td>14.75</td>\n",
       "      <td>14.68</td>\n",
       "      <td>14.47</td>\n",
       "      <td>14.5</td>\n",
       "    </tr>\n",
       "    <tr>\n",
       "      <th>Tpot (K)</th>\n",
       "      <td>273.18</td>\n",
       "      <td>273.22</td>\n",
       "      <td>273.21</td>\n",
       "      <td>272.86</td>\n",
       "      <td>272.82</td>\n",
       "      <td>272.84</td>\n",
       "      <td>272.69</td>\n",
       "      <td>272.53</td>\n",
       "      <td>272.63</td>\n",
       "      <td>272.73</td>\n",
       "      <td>272.48</td>\n",
       "      <td>272.3</td>\n",
       "      <td>272.42</td>\n",
       "      <td>272.35</td>\n",
       "      <td>272.3</td>\n",
       "      <td>272.45</td>\n",
       "      <td>272.34</td>\n",
       "      <td>272.45</td>\n",
       "      <td>272.31</td>\n",
       "      <td>271.77</td>\n",
       "      <td>271.61</td>\n",
       "      <td>271.68</td>\n",
       "      <td>271.66</td>\n",
       "      <td>271.52</td>\n",
       "      <td>271.41</td>\n",
       "      <td>271.47</td>\n",
       "      <td>270.96</td>\n",
       "      <td>270.72</td>\n",
       "      <td>270.71</td>\n",
       "      <td>270.73</td>\n",
       "      <td>270.44</td>\n",
       "      <td>270.21</td>\n",
       "      <td>270.35</td>\n",
       "      <td>270.25</td>\n",
       "      <td>270.16</td>\n",
       "      <td>270.05</td>\n",
       "      <td>269.72</td>\n",
       "      <td>269.75</td>\n",
       "      <td>269.79</td>\n",
       "      <td>269.9</td>\n",
       "      <td>...</td>\n",
       "      <td>286.66</td>\n",
       "      <td>286.67</td>\n",
       "      <td>286.66</td>\n",
       "      <td>286.74</td>\n",
       "      <td>286.86</td>\n",
       "      <td>286.99</td>\n",
       "      <td>287.09</td>\n",
       "      <td>287.22</td>\n",
       "      <td>287.52</td>\n",
       "      <td>287.67</td>\n",
       "      <td>287.63</td>\n",
       "      <td>287.52</td>\n",
       "      <td>287.36</td>\n",
       "      <td>287.1</td>\n",
       "      <td>287.03</td>\n",
       "      <td>286.85</td>\n",
       "      <td>286.75</td>\n",
       "      <td>286.75</td>\n",
       "      <td>286.84</td>\n",
       "      <td>287.01</td>\n",
       "      <td>287.27</td>\n",
       "      <td>287.33</td>\n",
       "      <td>287.4</td>\n",
       "      <td>287.4</td>\n",
       "      <td>287.36</td>\n",
       "      <td>287.46</td>\n",
       "      <td>287.56</td>\n",
       "      <td>287.65</td>\n",
       "      <td>287.93</td>\n",
       "      <td>288.12</td>\n",
       "      <td>288.27</td>\n",
       "      <td>288.29</td>\n",
       "      <td>288.5</td>\n",
       "      <td>288.48</td>\n",
       "      <td>288.56</td>\n",
       "      <td>288.73</td>\n",
       "      <td>288.71</td>\n",
       "      <td>288.64</td>\n",
       "      <td>288.43</td>\n",
       "      <td>288.45</td>\n",
       "    </tr>\n",
       "    <tr>\n",
       "      <th>rh (%)</th>\n",
       "      <td>86.1</td>\n",
       "      <td>85.2</td>\n",
       "      <td>85.1</td>\n",
       "      <td>86.3</td>\n",
       "      <td>87.4</td>\n",
       "      <td>87.1</td>\n",
       "      <td>87.4</td>\n",
       "      <td>88.1</td>\n",
       "      <td>88.1</td>\n",
       "      <td>87.4</td>\n",
       "      <td>87.5</td>\n",
       "      <td>89.1</td>\n",
       "      <td>88.6</td>\n",
       "      <td>88.1</td>\n",
       "      <td>88.9</td>\n",
       "      <td>88.2</td>\n",
       "      <td>88.6</td>\n",
       "      <td>88.5</td>\n",
       "      <td>88.7</td>\n",
       "      <td>89.2</td>\n",
       "      <td>90.6</td>\n",
       "      <td>90.8</td>\n",
       "      <td>90.9</td>\n",
       "      <td>90.9</td>\n",
       "      <td>91.4</td>\n",
       "      <td>91.7</td>\n",
       "      <td>90.5</td>\n",
       "      <td>92.1</td>\n",
       "      <td>92.4</td>\n",
       "      <td>93.2</td>\n",
       "      <td>92.3</td>\n",
       "      <td>93.4</td>\n",
       "      <td>93.8</td>\n",
       "      <td>93.7</td>\n",
       "      <td>94.1</td>\n",
       "      <td>94</td>\n",
       "      <td>94.1</td>\n",
       "      <td>94.6</td>\n",
       "      <td>94.8</td>\n",
       "      <td>95</td>\n",
       "      <td>...</td>\n",
       "      <td>94.5</td>\n",
       "      <td>95.1</td>\n",
       "      <td>95.4</td>\n",
       "      <td>96</td>\n",
       "      <td>96.1</td>\n",
       "      <td>96.3</td>\n",
       "      <td>95.6</td>\n",
       "      <td>95.8</td>\n",
       "      <td>94.4</td>\n",
       "      <td>93.3</td>\n",
       "      <td>93.2</td>\n",
       "      <td>92.3</td>\n",
       "      <td>90.9</td>\n",
       "      <td>92.9</td>\n",
       "      <td>94.2</td>\n",
       "      <td>95.1</td>\n",
       "      <td>95.2</td>\n",
       "      <td>96.2</td>\n",
       "      <td>96.2</td>\n",
       "      <td>95.6</td>\n",
       "      <td>92.6</td>\n",
       "      <td>91.4</td>\n",
       "      <td>90.2</td>\n",
       "      <td>90.1</td>\n",
       "      <td>89.7</td>\n",
       "      <td>90.8</td>\n",
       "      <td>89.8</td>\n",
       "      <td>90</td>\n",
       "      <td>88.8</td>\n",
       "      <td>88.6</td>\n",
       "      <td>87.2</td>\n",
       "      <td>87.3</td>\n",
       "      <td>84.5</td>\n",
       "      <td>82.9</td>\n",
       "      <td>83.5</td>\n",
       "      <td>83.9</td>\n",
       "      <td>82.7</td>\n",
       "      <td>84.6</td>\n",
       "      <td>86.1</td>\n",
       "      <td>86.1</td>\n",
       "    </tr>\n",
       "    <tr>\n",
       "      <th>wv (m/s)</th>\n",
       "      <td>1.02</td>\n",
       "      <td>0.43</td>\n",
       "      <td>0.61</td>\n",
       "      <td>1.11</td>\n",
       "      <td>0.49</td>\n",
       "      <td>0.63</td>\n",
       "      <td>0.88</td>\n",
       "      <td>1.05</td>\n",
       "      <td>0.9</td>\n",
       "      <td>0.62</td>\n",
       "      <td>0.61</td>\n",
       "      <td>0.5</td>\n",
       "      <td>0.48</td>\n",
       "      <td>0.57</td>\n",
       "      <td>0.28</td>\n",
       "      <td>0.81</td>\n",
       "      <td>0.42</td>\n",
       "      <td>0.46</td>\n",
       "      <td>0.32</td>\n",
       "      <td>1.6</td>\n",
       "      <td>1.2</td>\n",
       "      <td>1.08</td>\n",
       "      <td>0.79</td>\n",
       "      <td>1.83</td>\n",
       "      <td>1.16</td>\n",
       "      <td>0.47</td>\n",
       "      <td>0.81</td>\n",
       "      <td>0.73</td>\n",
       "      <td>1.05</td>\n",
       "      <td>1.53</td>\n",
       "      <td>1.18</td>\n",
       "      <td>0.41</td>\n",
       "      <td>1.09</td>\n",
       "      <td>1.11</td>\n",
       "      <td>0.47</td>\n",
       "      <td>0.85</td>\n",
       "      <td>1.36</td>\n",
       "      <td>1</td>\n",
       "      <td>0.62</td>\n",
       "      <td>0.46</td>\n",
       "      <td>...</td>\n",
       "      <td>1.65</td>\n",
       "      <td>1.32</td>\n",
       "      <td>1.4</td>\n",
       "      <td>0.95</td>\n",
       "      <td>1</td>\n",
       "      <td>1.11</td>\n",
       "      <td>1.55</td>\n",
       "      <td>0.66</td>\n",
       "      <td>0.53</td>\n",
       "      <td>1.13</td>\n",
       "      <td>0.58</td>\n",
       "      <td>1.24</td>\n",
       "      <td>1.05</td>\n",
       "      <td>0.67</td>\n",
       "      <td>0.68</td>\n",
       "      <td>0.84</td>\n",
       "      <td>1.1</td>\n",
       "      <td>1.17</td>\n",
       "      <td>1.04</td>\n",
       "      <td>0.67</td>\n",
       "      <td>1.15</td>\n",
       "      <td>1.3</td>\n",
       "      <td>1.17</td>\n",
       "      <td>1.39</td>\n",
       "      <td>1.85</td>\n",
       "      <td>1.27</td>\n",
       "      <td>1.91</td>\n",
       "      <td>1.27</td>\n",
       "      <td>1.06</td>\n",
       "      <td>1.34</td>\n",
       "      <td>1.6</td>\n",
       "      <td>1.82</td>\n",
       "      <td>2.45</td>\n",
       "      <td>2.09</td>\n",
       "      <td>1.67</td>\n",
       "      <td>1.29</td>\n",
       "      <td>1.23</td>\n",
       "      <td>1.17</td>\n",
       "      <td>1.24</td>\n",
       "      <td>1.22</td>\n",
       "    </tr>\n",
       "    <tr>\n",
       "      <th>wd (deg)</th>\n",
       "      <td>224.3</td>\n",
       "      <td>206.8</td>\n",
       "      <td>197.1</td>\n",
       "      <td>206.4</td>\n",
       "      <td>209.6</td>\n",
       "      <td>188</td>\n",
       "      <td>195.4</td>\n",
       "      <td>183.1</td>\n",
       "      <td>199.9</td>\n",
       "      <td>123.9</td>\n",
       "      <td>176.5</td>\n",
       "      <td>154</td>\n",
       "      <td>105.5</td>\n",
       "      <td>65.58</td>\n",
       "      <td>356.1</td>\n",
       "      <td>143.7</td>\n",
       "      <td>191.3</td>\n",
       "      <td>46.51</td>\n",
       "      <td>199.6</td>\n",
       "      <td>214.2</td>\n",
       "      <td>222.5</td>\n",
       "      <td>220.3</td>\n",
       "      <td>211.1</td>\n",
       "      <td>218.1</td>\n",
       "      <td>237.3</td>\n",
       "      <td>28.8</td>\n",
       "      <td>165.7</td>\n",
       "      <td>144.8</td>\n",
       "      <td>203.9</td>\n",
       "      <td>226.9</td>\n",
       "      <td>186.6</td>\n",
       "      <td>86.3</td>\n",
       "      <td>154.5</td>\n",
       "      <td>199.7</td>\n",
       "      <td>216.9</td>\n",
       "      <td>177.9</td>\n",
       "      <td>199.1</td>\n",
       "      <td>154.2</td>\n",
       "      <td>143</td>\n",
       "      <td>199.8</td>\n",
       "      <td>...</td>\n",
       "      <td>140</td>\n",
       "      <td>134.9</td>\n",
       "      <td>141</td>\n",
       "      <td>144</td>\n",
       "      <td>157.4</td>\n",
       "      <td>131.4</td>\n",
       "      <td>141.9</td>\n",
       "      <td>121.2</td>\n",
       "      <td>149.5</td>\n",
       "      <td>169.5</td>\n",
       "      <td>301.1</td>\n",
       "      <td>7.52</td>\n",
       "      <td>359.7</td>\n",
       "      <td>296.6</td>\n",
       "      <td>256.7</td>\n",
       "      <td>223.6</td>\n",
       "      <td>211.4</td>\n",
       "      <td>214</td>\n",
       "      <td>244.2</td>\n",
       "      <td>219.8</td>\n",
       "      <td>250.1</td>\n",
       "      <td>247.2</td>\n",
       "      <td>249.8</td>\n",
       "      <td>234.8</td>\n",
       "      <td>231.2</td>\n",
       "      <td>229.8</td>\n",
       "      <td>238.6</td>\n",
       "      <td>246.9</td>\n",
       "      <td>206.6</td>\n",
       "      <td>206.3</td>\n",
       "      <td>197.9</td>\n",
       "      <td>204.8</td>\n",
       "      <td>205.1</td>\n",
       "      <td>208.5</td>\n",
       "      <td>223</td>\n",
       "      <td>221.8</td>\n",
       "      <td>211.7</td>\n",
       "      <td>250.8</td>\n",
       "      <td>222.6</td>\n",
       "      <td>203.5</td>\n",
       "    </tr>\n",
       "    <tr>\n",
       "      <th>rain (mm)</th>\n",
       "      <td>0</td>\n",
       "      <td>0</td>\n",
       "      <td>0</td>\n",
       "      <td>0</td>\n",
       "      <td>0</td>\n",
       "      <td>0</td>\n",
       "      <td>0</td>\n",
       "      <td>0</td>\n",
       "      <td>0</td>\n",
       "      <td>0</td>\n",
       "      <td>0</td>\n",
       "      <td>0</td>\n",
       "      <td>0</td>\n",
       "      <td>0</td>\n",
       "      <td>0</td>\n",
       "      <td>0</td>\n",
       "      <td>0</td>\n",
       "      <td>0</td>\n",
       "      <td>0</td>\n",
       "      <td>0</td>\n",
       "      <td>0</td>\n",
       "      <td>0</td>\n",
       "      <td>0</td>\n",
       "      <td>0</td>\n",
       "      <td>0</td>\n",
       "      <td>0</td>\n",
       "      <td>0</td>\n",
       "      <td>0</td>\n",
       "      <td>0</td>\n",
       "      <td>0</td>\n",
       "      <td>0</td>\n",
       "      <td>0</td>\n",
       "      <td>0</td>\n",
       "      <td>0</td>\n",
       "      <td>0</td>\n",
       "      <td>0</td>\n",
       "      <td>0</td>\n",
       "      <td>0</td>\n",
       "      <td>0</td>\n",
       "      <td>0</td>\n",
       "      <td>...</td>\n",
       "      <td>0</td>\n",
       "      <td>0</td>\n",
       "      <td>0.2</td>\n",
       "      <td>0.1</td>\n",
       "      <td>0.1</td>\n",
       "      <td>0.1</td>\n",
       "      <td>0</td>\n",
       "      <td>0.1</td>\n",
       "      <td>0</td>\n",
       "      <td>0</td>\n",
       "      <td>0</td>\n",
       "      <td>0.1</td>\n",
       "      <td>0</td>\n",
       "      <td>0.1</td>\n",
       "      <td>0.2</td>\n",
       "      <td>0.1</td>\n",
       "      <td>0.2</td>\n",
       "      <td>0</td>\n",
       "      <td>0.1</td>\n",
       "      <td>0</td>\n",
       "      <td>0.1</td>\n",
       "      <td>0.1</td>\n",
       "      <td>0</td>\n",
       "      <td>0</td>\n",
       "      <td>0.1</td>\n",
       "      <td>0.1</td>\n",
       "      <td>0</td>\n",
       "      <td>0</td>\n",
       "      <td>0</td>\n",
       "      <td>0.1</td>\n",
       "      <td>0</td>\n",
       "      <td>0</td>\n",
       "      <td>0</td>\n",
       "      <td>0</td>\n",
       "      <td>0</td>\n",
       "      <td>0</td>\n",
       "      <td>0</td>\n",
       "      <td>0</td>\n",
       "      <td>0</td>\n",
       "      <td>0</td>\n",
       "    </tr>\n",
       "  </tbody>\n",
       "</table>\n",
       "<p>8 rows × 27295 columns</p>\n",
       "</div>"
      ],
      "text/plain": [
       "                             0  ...                27294\n",
       "Date Time  01.01.2020 00:10:00  ...  08.07.2020 14:30:00\n",
       "p (mbar)               1008.89  ...               990.29\n",
       "T (degC)                  0.71  ...                 14.5\n",
       "Tpot (K)                273.18  ...               288.45\n",
       "rh (%)                    86.1  ...                 86.1\n",
       "wv (m/s)                  1.02  ...                 1.22\n",
       "wd (deg)                 224.3  ...                203.5\n",
       "rain (mm)                    0  ...                    0\n",
       "\n",
       "[8 rows x 27295 columns]"
      ]
     },
     "execution_count": 89,
     "metadata": {
      "tags": []
     },
     "output_type": "execute_result"
    }
   ],
   "source": [
    "df.T[:10]"
   ]
  },
  {
   "cell_type": "code",
   "execution_count": 90,
   "metadata": {
    "colab": {
     "base_uri": "https://localhost:8080/",
     "height": 34
    },
    "colab_type": "code",
    "id": "OsijbhLK7rvg",
    "outputId": "e93c07a7-d9c4-458a-d1a9-3cefaf35d423"
   },
   "outputs": [
    {
     "data": {
      "text/plain": [
       "(27287, 8)"
      ]
     },
     "execution_count": 90,
     "metadata": {
      "tags": []
     },
     "output_type": "execute_result"
    }
   ],
   "source": [
    "df1.shape"
   ]
  },
  {
   "cell_type": "code",
   "execution_count": 91,
   "metadata": {
    "colab": {
     "base_uri": "https://localhost:8080/",
     "height": 34
    },
    "colab_type": "code",
    "id": "R2atlj1p78IO",
    "outputId": "2dc77ab7-f4c8-47ac-8299-8e2fb082b672"
   },
   "outputs": [
    {
     "data": {
      "text/plain": [
       "21829.600000000002"
      ]
     },
     "execution_count": 91,
     "metadata": {
      "tags": []
     },
     "output_type": "execute_result"
    }
   ],
   "source": [
    "27287 * 0.8"
   ]
  },
  {
   "cell_type": "code",
   "execution_count": 92,
   "metadata": {
    "colab": {
     "base_uri": "https://localhost:8080/",
     "height": 419
    },
    "colab_type": "code",
    "id": "E9CCts8J98Af",
    "outputId": "5096f313-9da6-4e47-a33b-35b871a5e302"
   },
   "outputs": [
    {
     "data": {
      "text/html": [
       "<div>\n",
       "<style scoped>\n",
       "    .dataframe tbody tr th:only-of-type {\n",
       "        vertical-align: middle;\n",
       "    }\n",
       "\n",
       "    .dataframe tbody tr th {\n",
       "        vertical-align: top;\n",
       "    }\n",
       "\n",
       "    .dataframe thead th {\n",
       "        text-align: right;\n",
       "    }\n",
       "</style>\n",
       "<table border=\"1\" class=\"dataframe\">\n",
       "  <thead>\n",
       "    <tr style=\"text-align: right;\">\n",
       "      <th></th>\n",
       "      <th>d1</th>\n",
       "      <th>d2</th>\n",
       "      <th>d3</th>\n",
       "      <th>d4</th>\n",
       "      <th>d5</th>\n",
       "      <th>d6</th>\n",
       "      <th>d7</th>\n",
       "    </tr>\n",
       "  </thead>\n",
       "  <tbody>\n",
       "    <tr>\n",
       "      <th>0</th>\n",
       "      <td>0.71</td>\n",
       "      <td>0.75</td>\n",
       "      <td>0.73</td>\n",
       "      <td>0.37</td>\n",
       "      <td>0.33</td>\n",
       "      <td>0.34</td>\n",
       "      <td>0.19</td>\n",
       "    </tr>\n",
       "    <tr>\n",
       "      <th>1</th>\n",
       "      <td>0.75</td>\n",
       "      <td>0.73</td>\n",
       "      <td>0.37</td>\n",
       "      <td>0.33</td>\n",
       "      <td>0.34</td>\n",
       "      <td>0.19</td>\n",
       "      <td>0.03</td>\n",
       "    </tr>\n",
       "    <tr>\n",
       "      <th>2</th>\n",
       "      <td>0.73</td>\n",
       "      <td>0.37</td>\n",
       "      <td>0.33</td>\n",
       "      <td>0.34</td>\n",
       "      <td>0.19</td>\n",
       "      <td>0.03</td>\n",
       "      <td>0.11</td>\n",
       "    </tr>\n",
       "    <tr>\n",
       "      <th>3</th>\n",
       "      <td>0.37</td>\n",
       "      <td>0.33</td>\n",
       "      <td>0.34</td>\n",
       "      <td>0.19</td>\n",
       "      <td>0.03</td>\n",
       "      <td>0.11</td>\n",
       "      <td>0.22</td>\n",
       "    </tr>\n",
       "    <tr>\n",
       "      <th>4</th>\n",
       "      <td>0.33</td>\n",
       "      <td>0.34</td>\n",
       "      <td>0.19</td>\n",
       "      <td>0.03</td>\n",
       "      <td>0.11</td>\n",
       "      <td>0.22</td>\n",
       "      <td>-0.04</td>\n",
       "    </tr>\n",
       "    <tr>\n",
       "      <th>...</th>\n",
       "      <td>...</td>\n",
       "      <td>...</td>\n",
       "      <td>...</td>\n",
       "      <td>...</td>\n",
       "      <td>...</td>\n",
       "      <td>...</td>\n",
       "      <td>...</td>\n",
       "    </tr>\n",
       "    <tr>\n",
       "      <th>21824</th>\n",
       "      <td>16.67</td>\n",
       "      <td>16.55</td>\n",
       "      <td>16.64</td>\n",
       "      <td>17.16</td>\n",
       "      <td>17.68</td>\n",
       "      <td>17.66</td>\n",
       "      <td>17.43</td>\n",
       "    </tr>\n",
       "    <tr>\n",
       "      <th>21825</th>\n",
       "      <td>16.55</td>\n",
       "      <td>16.64</td>\n",
       "      <td>17.16</td>\n",
       "      <td>17.68</td>\n",
       "      <td>17.66</td>\n",
       "      <td>17.43</td>\n",
       "      <td>17.47</td>\n",
       "    </tr>\n",
       "    <tr>\n",
       "      <th>21826</th>\n",
       "      <td>16.64</td>\n",
       "      <td>17.16</td>\n",
       "      <td>17.68</td>\n",
       "      <td>17.66</td>\n",
       "      <td>17.43</td>\n",
       "      <td>17.47</td>\n",
       "      <td>17.72</td>\n",
       "    </tr>\n",
       "    <tr>\n",
       "      <th>21827</th>\n",
       "      <td>17.16</td>\n",
       "      <td>17.68</td>\n",
       "      <td>17.66</td>\n",
       "      <td>17.43</td>\n",
       "      <td>17.47</td>\n",
       "      <td>17.72</td>\n",
       "      <td>17.52</td>\n",
       "    </tr>\n",
       "    <tr>\n",
       "      <th>21828</th>\n",
       "      <td>17.68</td>\n",
       "      <td>17.66</td>\n",
       "      <td>17.43</td>\n",
       "      <td>17.47</td>\n",
       "      <td>17.72</td>\n",
       "      <td>17.52</td>\n",
       "      <td>17.67</td>\n",
       "    </tr>\n",
       "  </tbody>\n",
       "</table>\n",
       "<p>21829 rows × 7 columns</p>\n",
       "</div>"
      ],
      "text/plain": [
       "          d1     d2     d3     d4     d5     d6     d7\n",
       "0       0.71   0.75   0.73   0.37   0.33   0.34   0.19\n",
       "1       0.75   0.73   0.37   0.33   0.34   0.19   0.03\n",
       "2       0.73   0.37   0.33   0.34   0.19   0.03   0.11\n",
       "3       0.37   0.33   0.34   0.19   0.03   0.11   0.22\n",
       "4       0.33   0.34   0.19   0.03   0.11   0.22  -0.04\n",
       "...      ...    ...    ...    ...    ...    ...    ...\n",
       "21824  16.67  16.55  16.64  17.16  17.68  17.66  17.43\n",
       "21825  16.55  16.64  17.16  17.68  17.66  17.43  17.47\n",
       "21826  16.64  17.16  17.68  17.66  17.43  17.47  17.72\n",
       "21827  17.16  17.68  17.66  17.43  17.47  17.72  17.52\n",
       "21828  17.68  17.66  17.43  17.47  17.72  17.52  17.67\n",
       "\n",
       "[21829 rows x 7 columns]"
      ]
     },
     "execution_count": 92,
     "metadata": {
      "tags": []
     },
     "output_type": "execute_result"
    }
   ],
   "source": [
    "X_train = df1.iloc[0:21829,0:7]\n",
    "X_train"
   ]
  },
  {
   "cell_type": "code",
   "execution_count": 93,
   "metadata": {
    "colab": {
     "base_uri": "https://localhost:8080/",
     "height": 85
    },
    "colab_type": "code",
    "id": "aXT55L_W4Es2",
    "outputId": "eeb76780-9da2-40c4-8842-90451f1014d1"
   },
   "outputs": [
    {
     "name": "stdout",
     "output_type": "stream",
     "text": [
      "(21829, 7)\n",
      "(21829,)\n",
      "(5458, 7)\n",
      "(5458,)\n"
     ]
    }
   ],
   "source": [
    "X_train = df1.iloc[0:21829,0:7]\n",
    "X_test = df1.iloc[21829:,0:7]\n",
    "y_train =  df1['d8'][:21829]\n",
    "y_test  = df1['d8'][21829:]\n",
    "print(X_train.shape)\n",
    "print(y_train.shape)\n",
    "print(X_test.shape)\n",
    "print(y_test.shape)\n"
   ]
  },
  {
   "cell_type": "code",
   "execution_count": 94,
   "metadata": {
    "colab": {
     "base_uri": "https://localhost:8080/",
     "height": 221
    },
    "colab_type": "code",
    "id": "zseFWkiv8kSP",
    "outputId": "41067c09-a55a-4da1-f8e9-932bc543944b"
   },
   "outputs": [
    {
     "data": {
      "text/plain": [
       "0         0.03\n",
       "1         0.11\n",
       "2         0.22\n",
       "3        -0.04\n",
       "4        -0.21\n",
       "         ...  \n",
       "21824    17.47\n",
       "21825    17.72\n",
       "21826    17.52\n",
       "21827    17.67\n",
       "21828    18.07\n",
       "Name: d8, Length: 21829, dtype: float64"
      ]
     },
     "execution_count": 94,
     "metadata": {
      "tags": []
     },
     "output_type": "execute_result"
    }
   ],
   "source": [
    "X_train = df1.iloc[0:21829,0:7]\n",
    "y_train =  df1['d8'][:21829]\n",
    "X_train\n",
    "y_train"
   ]
  },
  {
   "cell_type": "code",
   "execution_count": 95,
   "metadata": {
    "colab": {
     "base_uri": "https://localhost:8080/",
     "height": 297
    },
    "colab_type": "code",
    "id": "qs_rbuen4ObQ",
    "outputId": "a8f850a5-0033-48bd-e980-17569e7501d1"
   },
   "outputs": [
    {
     "data": {
      "text/html": [
       "<div>\n",
       "<style scoped>\n",
       "    .dataframe tbody tr th:only-of-type {\n",
       "        vertical-align: middle;\n",
       "    }\n",
       "\n",
       "    .dataframe tbody tr th {\n",
       "        vertical-align: top;\n",
       "    }\n",
       "\n",
       "    .dataframe thead th {\n",
       "        text-align: right;\n",
       "    }\n",
       "</style>\n",
       "<table border=\"1\" class=\"dataframe\">\n",
       "  <thead>\n",
       "    <tr style=\"text-align: right;\">\n",
       "      <th></th>\n",
       "      <th>d1</th>\n",
       "      <th>d2</th>\n",
       "      <th>d3</th>\n",
       "      <th>d4</th>\n",
       "      <th>d5</th>\n",
       "      <th>d6</th>\n",
       "      <th>d7</th>\n",
       "    </tr>\n",
       "  </thead>\n",
       "  <tbody>\n",
       "    <tr>\n",
       "      <th>count</th>\n",
       "      <td>2.182900e+04</td>\n",
       "      <td>2.182900e+04</td>\n",
       "      <td>2.182900e+04</td>\n",
       "      <td>2.182900e+04</td>\n",
       "      <td>2.182900e+04</td>\n",
       "      <td>2.182900e+04</td>\n",
       "      <td>2.182900e+04</td>\n",
       "    </tr>\n",
       "    <tr>\n",
       "      <th>mean</th>\n",
       "      <td>-1.207467e-15</td>\n",
       "      <td>-1.035306e-16</td>\n",
       "      <td>9.661468e-16</td>\n",
       "      <td>-2.023791e-15</td>\n",
       "      <td>1.364370e-15</td>\n",
       "      <td>2.367726e-15</td>\n",
       "      <td>3.285556e-18</td>\n",
       "    </tr>\n",
       "    <tr>\n",
       "      <th>std</th>\n",
       "      <td>1.000023e+00</td>\n",
       "      <td>1.000023e+00</td>\n",
       "      <td>1.000023e+00</td>\n",
       "      <td>1.000023e+00</td>\n",
       "      <td>1.000023e+00</td>\n",
       "      <td>1.000023e+00</td>\n",
       "      <td>1.000023e+00</td>\n",
       "    </tr>\n",
       "    <tr>\n",
       "      <th>min</th>\n",
       "      <td>-2.456158e+00</td>\n",
       "      <td>-2.456185e+00</td>\n",
       "      <td>-2.456218e+00</td>\n",
       "      <td>-2.456251e+00</td>\n",
       "      <td>-2.456288e+00</td>\n",
       "      <td>-2.456332e+00</td>\n",
       "      <td>-2.456372e+00</td>\n",
       "    </tr>\n",
       "    <tr>\n",
       "      <th>25%</th>\n",
       "      <td>-7.131797e-01</td>\n",
       "      <td>-7.132859e-01</td>\n",
       "      <td>-7.133920e-01</td>\n",
       "      <td>-7.134983e-01</td>\n",
       "      <td>-7.136094e-01</td>\n",
       "      <td>-7.137217e-01</td>\n",
       "      <td>-7.138335e-01</td>\n",
       "    </tr>\n",
       "    <tr>\n",
       "      <th>50%</th>\n",
       "      <td>-1.345609e-01</td>\n",
       "      <td>-1.346931e-01</td>\n",
       "      <td>-1.330433e-01</td>\n",
       "      <td>-1.331742e-01</td>\n",
       "      <td>-1.333100e-01</td>\n",
       "      <td>-1.334450e-01</td>\n",
       "      <td>-1.335807e-01</td>\n",
       "    </tr>\n",
       "    <tr>\n",
       "      <th>75%</th>\n",
       "      <td>6.416784e-01</td>\n",
       "      <td>6.415113e-01</td>\n",
       "      <td>6.413484e-01</td>\n",
       "      <td>6.411847e-01</td>\n",
       "      <td>6.410160e-01</td>\n",
       "      <td>6.408508e-01</td>\n",
       "      <td>6.406829e-01</td>\n",
       "    </tr>\n",
       "    <tr>\n",
       "      <th>max</th>\n",
       "      <td>2.982859e+00</td>\n",
       "      <td>2.982587e+00</td>\n",
       "      <td>2.982325e+00</td>\n",
       "      <td>2.982063e+00</td>\n",
       "      <td>2.981794e+00</td>\n",
       "      <td>2.981538e+00</td>\n",
       "      <td>2.981273e+00</td>\n",
       "    </tr>\n",
       "  </tbody>\n",
       "</table>\n",
       "</div>"
      ],
      "text/plain": [
       "                 d1            d2  ...            d6            d7\n",
       "count  2.182900e+04  2.182900e+04  ...  2.182900e+04  2.182900e+04\n",
       "mean  -1.207467e-15 -1.035306e-16  ...  2.367726e-15  3.285556e-18\n",
       "std    1.000023e+00  1.000023e+00  ...  1.000023e+00  1.000023e+00\n",
       "min   -2.456158e+00 -2.456185e+00  ... -2.456332e+00 -2.456372e+00\n",
       "25%   -7.131797e-01 -7.132859e-01  ... -7.137217e-01 -7.138335e-01\n",
       "50%   -1.345609e-01 -1.346931e-01  ... -1.334450e-01 -1.335807e-01\n",
       "75%    6.416784e-01  6.415113e-01  ...  6.408508e-01  6.406829e-01\n",
       "max    2.982859e+00  2.982587e+00  ...  2.981538e+00  2.981273e+00\n",
       "\n",
       "[8 rows x 7 columns]"
      ]
     },
     "execution_count": 95,
     "metadata": {
      "tags": []
     },
     "output_type": "execute_result"
    }
   ],
   "source": [
    "## Sacling the data\n",
    "from sklearn.preprocessing import StandardScaler\n",
    "sc = StandardScaler()\n",
    "sc.fit(X_train)\n",
    "X_train_sc = pd.DataFrame(sc.transform(X_train),columns = X_train.columns)\n",
    "X_test_sc = pd.DataFrame(sc.transform(X_test),columns = X_train.columns)\n",
    "X_train_sc.describe()"
   ]
  },
  {
   "cell_type": "code",
   "execution_count": 96,
   "metadata": {
    "colab": {
     "base_uri": "https://localhost:8080/",
     "height": 221
    },
    "colab_type": "code",
    "id": "kEN_EuLF4WTR",
    "outputId": "e7675851-8cff-4989-8d70-7a56aee31dd1"
   },
   "outputs": [
    {
     "name": "stdout",
     "output_type": "stream",
     "text": [
      "Model: \"sequential_2\"\n",
      "_________________________________________________________________\n",
      "Layer (type)                 Output Shape              Param #   \n",
      "=================================================================\n",
      "lstm_2 (LSTM)                (None, 256)               264192    \n",
      "_________________________________________________________________\n",
      "dense_2 (Dense)              (None, 1)                 257       \n",
      "=================================================================\n",
      "Total params: 264,449\n",
      "Trainable params: 264,449\n",
      "Non-trainable params: 0\n",
      "_________________________________________________________________\n"
     ]
    }
   ],
   "source": [
    "from keras.models import Sequential\n",
    "from keras.layers import Dense,Dropout,LSTM\n",
    "model = Sequential()\n",
    "model.add(LSTM(256,input_shape=(7,1)))\n",
    "model.add(Dense(1))\n",
    "model.summary()\n"
   ]
  },
  {
   "cell_type": "code",
   "execution_count": 97,
   "metadata": {
    "colab": {
     "base_uri": "https://localhost:8080/",
     "height": 34
    },
    "colab_type": "code",
    "id": "dx4CzDZb5Aj8",
    "outputId": "9b116627-831d-467f-a909-2e5e20474672"
   },
   "outputs": [
    {
     "data": {
      "text/plain": [
       "(27295, 8)"
      ]
     },
     "execution_count": 97,
     "metadata": {
      "tags": []
     },
     "output_type": "execute_result"
    }
   ],
   "source": [
    "\n",
    "df.shape"
   ]
  },
  {
   "cell_type": "code",
   "execution_count": 98,
   "metadata": {
    "colab": {},
    "colab_type": "code",
    "id": "cdcRX4-e5du3"
   },
   "outputs": [],
   "source": [
    "model.compile(optimizer='adam',loss='mse')"
   ]
  },
  {
   "cell_type": "code",
   "execution_count": 99,
   "metadata": {
    "colab": {
     "base_uri": "https://localhost:8080/",
     "height": 34
    },
    "colab_type": "code",
    "id": "timScS2J6LxB",
    "outputId": "1275a805-2617-481e-e642-4efab7f708e3"
   },
   "outputs": [
    {
     "data": {
      "text/plain": [
       "(5458, 7)"
      ]
     },
     "execution_count": 99,
     "metadata": {
      "tags": []
     },
     "output_type": "execute_result"
    }
   ],
   "source": [
    "X_test.shape"
   ]
  },
  {
   "cell_type": "code",
   "execution_count": 100,
   "metadata": {
    "colab": {
     "base_uri": "https://localhost:8080/",
     "height": 34
    },
    "colab_type": "code",
    "id": "Ff8IvObmA5sm",
    "outputId": "508b8e20-30ae-4fce-8262-c4004d22bb67"
   },
   "outputs": [
    {
     "data": {
      "text/plain": [
       "(21829, 7)"
      ]
     },
     "execution_count": 100,
     "metadata": {
      "tags": []
     },
     "output_type": "execute_result"
    }
   ],
   "source": [
    "X_train.shape"
   ]
  },
  {
   "cell_type": "code",
   "execution_count": 101,
   "metadata": {
    "colab": {},
    "colab_type": "code",
    "id": "8AjXZw0TAZzG"
   },
   "outputs": [],
   "source": [
    "X_train_sc = X_train_sc.values.reshape(21829,7,1)\n",
    "X_test_sc = X_test_sc.values.reshape(5458,7,1)"
   ]
  },
  {
   "cell_type": "code",
   "execution_count": 102,
   "metadata": {
    "colab": {
     "base_uri": "https://localhost:8080/",
     "height": 1000
    },
    "colab_type": "code",
    "id": "8NLwBGSWOzif",
    "outputId": "12c744d6-7ff6-4a27-d638-8bb9a424ad0f"
   },
   "outputs": [
    {
     "name": "stdout",
     "output_type": "stream",
     "text": [
      "Train on 21829 samples, validate on 5458 samples\n",
      "Epoch 1/100\n",
      "21829/21829 [==============================] - 21s 943us/step - loss: 2.7543 - val_loss: 1.5043\n",
      "Epoch 2/100\n",
      "21829/21829 [==============================] - 20s 936us/step - loss: 0.3838 - val_loss: 0.5023\n",
      "Epoch 3/100\n",
      "21829/21829 [==============================] - 20s 928us/step - loss: 0.1995 - val_loss: 0.4053\n",
      "Epoch 4/100\n",
      "21829/21829 [==============================] - 20s 926us/step - loss: 0.1737 - val_loss: 0.2760\n",
      "Epoch 5/100\n",
      "21829/21829 [==============================] - 20s 935us/step - loss: 0.1171 - val_loss: 0.3510\n",
      "Epoch 6/100\n",
      "21829/21829 [==============================] - 20s 934us/step - loss: 0.1043 - val_loss: 0.1547\n",
      "Epoch 7/100\n",
      "21829/21829 [==============================] - 20s 929us/step - loss: 0.0801 - val_loss: 0.1961\n",
      "Epoch 8/100\n",
      "21829/21829 [==============================] - 20s 928us/step - loss: 0.0702 - val_loss: 0.1011\n",
      "Epoch 9/100\n",
      "21829/21829 [==============================] - 20s 926us/step - loss: 0.0609 - val_loss: 0.1062\n",
      "Epoch 10/100\n",
      "21829/21829 [==============================] - 20s 928us/step - loss: 0.0536 - val_loss: 0.1072\n",
      "Epoch 11/100\n",
      "21829/21829 [==============================] - 20s 933us/step - loss: 0.0534 - val_loss: 0.0675\n",
      "Epoch 12/100\n",
      "21829/21829 [==============================] - 20s 927us/step - loss: 0.0507 - val_loss: 0.0709\n",
      "Epoch 13/100\n",
      "21829/21829 [==============================] - 20s 917us/step - loss: 0.0505 - val_loss: 0.0937\n",
      "Epoch 14/100\n",
      "21829/21829 [==============================] - 20s 928us/step - loss: 0.0514 - val_loss: 0.0832\n",
      "Epoch 15/100\n",
      "21829/21829 [==============================] - 20s 932us/step - loss: 0.0479 - val_loss: 0.2116\n",
      "Epoch 16/100\n",
      "21829/21829 [==============================] - 20s 930us/step - loss: 0.0492 - val_loss: 0.1543\n",
      "Epoch 17/100\n",
      "21829/21829 [==============================] - 21s 945us/step - loss: 0.0497 - val_loss: 0.0757\n",
      "Epoch 18/100\n",
      "21829/21829 [==============================] - 21s 943us/step - loss: 0.0503 - val_loss: 0.0771\n",
      "Epoch 19/100\n",
      "21829/21829 [==============================] - 20s 932us/step - loss: 0.0474 - val_loss: 0.0845\n",
      "Epoch 20/100\n",
      "21829/21829 [==============================] - 20s 931us/step - loss: 0.0464 - val_loss: 0.1153\n",
      "Epoch 21/100\n",
      "21829/21829 [==============================] - 20s 931us/step - loss: 0.0464 - val_loss: 0.1178\n",
      "Epoch 22/100\n",
      "21829/21829 [==============================] - 20s 925us/step - loss: 0.0476 - val_loss: 0.1027\n",
      "Epoch 23/100\n",
      "21829/21829 [==============================] - 20s 936us/step - loss: 0.0489 - val_loss: 0.0866\n",
      "Epoch 24/100\n",
      "21829/21829 [==============================] - 20s 930us/step - loss: 0.0480 - val_loss: 0.1574\n",
      "Epoch 25/100\n",
      "21829/21829 [==============================] - 20s 930us/step - loss: 0.0456 - val_loss: 0.0778\n",
      "Epoch 26/100\n",
      "21829/21829 [==============================] - 20s 936us/step - loss: 0.0466 - val_loss: 0.1105\n",
      "Epoch 27/100\n",
      "21829/21829 [==============================] - 20s 935us/step - loss: 0.0461 - val_loss: 0.0892\n",
      "Epoch 28/100\n",
      "21829/21829 [==============================] - 20s 932us/step - loss: 0.0456 - val_loss: 0.0892\n",
      "Epoch 29/100\n",
      "21829/21829 [==============================] - 20s 928us/step - loss: 0.0449 - val_loss: 0.1355\n",
      "Epoch 30/100\n",
      "21829/21829 [==============================] - 20s 936us/step - loss: 0.0455 - val_loss: 0.0834\n",
      "Epoch 31/100\n",
      "21829/21829 [==============================] - 20s 933us/step - loss: 0.0460 - val_loss: 0.0774\n",
      "Epoch 32/100\n",
      "21829/21829 [==============================] - 21s 943us/step - loss: 0.0454 - val_loss: 0.0790\n",
      "Epoch 33/100\n",
      "21829/21829 [==============================] - 21s 952us/step - loss: 0.0454 - val_loss: 0.0782\n",
      "Epoch 34/100\n",
      "21829/21829 [==============================] - 20s 927us/step - loss: 0.0444 - val_loss: 0.0878\n",
      "Epoch 35/100\n",
      "21829/21829 [==============================] - 20s 918us/step - loss: 0.0450 - val_loss: 0.0745\n",
      "Epoch 36/100\n",
      "21829/21829 [==============================] - 20s 925us/step - loss: 0.0450 - val_loss: 0.1122\n",
      "Epoch 37/100\n",
      "21829/21829 [==============================] - 20s 930us/step - loss: 0.0452 - val_loss: 0.0828\n",
      "Epoch 38/100\n",
      "21829/21829 [==============================] - 20s 922us/step - loss: 0.0451 - val_loss: 0.1024\n",
      "Epoch 39/100\n",
      "21829/21829 [==============================] - 20s 918us/step - loss: 0.0445 - val_loss: 0.0781\n",
      "Epoch 40/100\n",
      "21829/21829 [==============================] - 20s 919us/step - loss: 0.0447 - val_loss: 0.1356\n",
      "Epoch 41/100\n",
      "21829/21829 [==============================] - 20s 929us/step - loss: 0.0444 - val_loss: 0.1055\n",
      "Epoch 42/100\n",
      "21829/21829 [==============================] - 20s 922us/step - loss: 0.0443 - val_loss: 0.0877\n",
      "Epoch 43/100\n",
      "21829/21829 [==============================] - 20s 911us/step - loss: 0.0433 - val_loss: 0.0736\n",
      "Epoch 44/100\n",
      "21829/21829 [==============================] - 20s 918us/step - loss: 0.0439 - val_loss: 0.0816\n",
      "Epoch 45/100\n",
      "21829/21829 [==============================] - 20s 925us/step - loss: 0.0438 - val_loss: 0.1007\n",
      "Epoch 46/100\n",
      "21829/21829 [==============================] - 20s 925us/step - loss: 0.0449 - val_loss: 0.0852\n",
      "Epoch 47/100\n",
      "21829/21829 [==============================] - 20s 933us/step - loss: 0.0444 - val_loss: 0.0828\n",
      "Epoch 48/100\n",
      "21829/21829 [==============================] - 21s 942us/step - loss: 0.0445 - val_loss: 0.0783\n",
      "Epoch 49/100\n",
      "21829/21829 [==============================] - 20s 916us/step - loss: 0.0439 - val_loss: 0.0784\n",
      "Epoch 50/100\n",
      "21829/21829 [==============================] - 20s 922us/step - loss: 0.0437 - val_loss: 0.0815\n",
      "Epoch 51/100\n",
      "21829/21829 [==============================] - 20s 912us/step - loss: 0.0438 - val_loss: 0.0729\n",
      "Epoch 52/100\n",
      "21829/21829 [==============================] - 20s 921us/step - loss: 0.0438 - val_loss: 0.0761\n",
      "Epoch 53/100\n",
      "21829/21829 [==============================] - 20s 925us/step - loss: 0.0437 - val_loss: 0.1401\n",
      "Epoch 54/100\n",
      "21829/21829 [==============================] - 20s 928us/step - loss: 0.0434 - val_loss: 0.0747\n",
      "Epoch 55/100\n",
      "21829/21829 [==============================] - 20s 928us/step - loss: 0.0447 - val_loss: 0.1540\n",
      "Epoch 56/100\n",
      "21829/21829 [==============================] - 20s 936us/step - loss: 0.0434 - val_loss: 0.0752\n",
      "Epoch 57/100\n",
      "21829/21829 [==============================] - 20s 934us/step - loss: 0.0436 - val_loss: 0.0740\n",
      "Epoch 58/100\n",
      "21829/21829 [==============================] - 20s 925us/step - loss: 0.0432 - val_loss: 0.0794\n",
      "Epoch 59/100\n",
      "21829/21829 [==============================] - 20s 918us/step - loss: 0.0434 - val_loss: 0.1036\n",
      "Epoch 60/100\n",
      "21829/21829 [==============================] - 20s 925us/step - loss: 0.0435 - val_loss: 0.0830\n",
      "Epoch 61/100\n",
      "21829/21829 [==============================] - 20s 922us/step - loss: 0.0432 - val_loss: 0.0911\n",
      "Epoch 62/100\n",
      "21829/21829 [==============================] - 20s 919us/step - loss: 0.0435 - val_loss: 0.0911\n",
      "Epoch 63/100\n",
      "21829/21829 [==============================] - 20s 918us/step - loss: 0.0439 - val_loss: 0.0714\n",
      "Epoch 64/100\n",
      "21829/21829 [==============================] - 20s 927us/step - loss: 0.0432 - val_loss: 0.0806\n",
      "Epoch 65/100\n",
      "21829/21829 [==============================] - 20s 907us/step - loss: 0.0431 - val_loss: 0.0740\n",
      "Epoch 66/100\n",
      "21829/21829 [==============================] - 20s 906us/step - loss: 0.0432 - val_loss: 0.0724\n",
      "Epoch 67/100\n",
      "21829/21829 [==============================] - 20s 914us/step - loss: 0.0423 - val_loss: 0.0734\n",
      "Epoch 68/100\n",
      "21829/21829 [==============================] - 20s 919us/step - loss: 0.0437 - val_loss: 0.0903\n",
      "Epoch 69/100\n",
      "21829/21829 [==============================] - 20s 916us/step - loss: 0.0436 - val_loss: 0.0712\n",
      "Epoch 70/100\n",
      "21829/21829 [==============================] - 20s 919us/step - loss: 0.0425 - val_loss: 0.0904\n",
      "Epoch 71/100\n",
      "21829/21829 [==============================] - 20s 915us/step - loss: 0.0429 - val_loss: 0.1105\n",
      "Epoch 72/100\n",
      "21829/21829 [==============================] - 20s 915us/step - loss: 0.0427 - val_loss: 0.1695\n",
      "Epoch 73/100\n",
      "21829/21829 [==============================] - 20s 917us/step - loss: 0.0434 - val_loss: 0.0689\n",
      "Epoch 74/100\n",
      "21829/21829 [==============================] - 20s 919us/step - loss: 0.0433 - val_loss: 0.1210\n",
      "Epoch 75/100\n",
      "21829/21829 [==============================] - 20s 919us/step - loss: 0.0432 - val_loss: 0.0674\n",
      "Epoch 76/100\n",
      "21829/21829 [==============================] - 20s 913us/step - loss: 0.0426 - val_loss: 0.1007\n",
      "Epoch 77/100\n",
      "21829/21829 [==============================] - 20s 908us/step - loss: 0.0429 - val_loss: 0.0688\n",
      "Epoch 78/100\n",
      "21829/21829 [==============================] - 20s 907us/step - loss: 0.0424 - val_loss: 0.0748\n",
      "Epoch 79/100\n",
      "21829/21829 [==============================] - 20s 933us/step - loss: 0.0425 - val_loss: 0.0715\n",
      "Epoch 80/100\n",
      "21829/21829 [==============================] - 20s 911us/step - loss: 0.0431 - val_loss: 0.0817\n",
      "Epoch 81/100\n",
      "21829/21829 [==============================] - 20s 906us/step - loss: 0.0426 - val_loss: 0.0784\n",
      "Epoch 82/100\n",
      "21829/21829 [==============================] - 20s 908us/step - loss: 0.0427 - val_loss: 0.0679\n",
      "Epoch 83/100\n",
      "21829/21829 [==============================] - 20s 904us/step - loss: 0.0429 - val_loss: 0.0843\n",
      "Epoch 84/100\n",
      "21829/21829 [==============================] - 20s 908us/step - loss: 0.0424 - val_loss: 0.1164\n",
      "Epoch 85/100\n",
      "21829/21829 [==============================] - 20s 912us/step - loss: 0.0423 - val_loss: 0.0807\n",
      "Epoch 86/100\n",
      "21829/21829 [==============================] - 20s 906us/step - loss: 0.0429 - val_loss: 0.0748\n",
      "Epoch 87/100\n",
      "21829/21829 [==============================] - 20s 900us/step - loss: 0.0420 - val_loss: 0.0755\n",
      "Epoch 88/100\n",
      "21829/21829 [==============================] - 20s 909us/step - loss: 0.0424 - val_loss: 0.0787\n",
      "Epoch 89/100\n",
      "21829/21829 [==============================] - 20s 923us/step - loss: 0.0424 - val_loss: 0.0742\n",
      "Epoch 90/100\n",
      "21829/21829 [==============================] - 20s 918us/step - loss: 0.0422 - val_loss: 0.0689\n",
      "Epoch 91/100\n",
      "21829/21829 [==============================] - 20s 911us/step - loss: 0.0427 - val_loss: 0.2135\n",
      "Epoch 92/100\n",
      "21829/21829 [==============================] - 20s 913us/step - loss: 0.0426 - val_loss: 0.0748\n",
      "Epoch 93/100\n",
      "21829/21829 [==============================] - 20s 930us/step - loss: 0.0426 - val_loss: 0.0754\n",
      "Epoch 94/100\n",
      "21829/21829 [==============================] - 20s 915us/step - loss: 0.0427 - val_loss: 0.0887\n",
      "Epoch 95/100\n",
      "21829/21829 [==============================] - 20s 931us/step - loss: 0.0427 - val_loss: 0.0728\n",
      "Epoch 96/100\n",
      "21829/21829 [==============================] - 20s 915us/step - loss: 0.0418 - val_loss: 0.0921\n",
      "Epoch 97/100\n",
      "21829/21829 [==============================] - 20s 922us/step - loss: 0.0421 - val_loss: 0.0867\n",
      "Epoch 98/100\n",
      "21829/21829 [==============================] - 20s 913us/step - loss: 0.0421 - val_loss: 0.0711\n",
      "Epoch 99/100\n",
      "21829/21829 [==============================] - 20s 912us/step - loss: 0.0422 - val_loss: 0.0717\n",
      "Epoch 100/100\n",
      "21829/21829 [==============================] - 20s 913us/step - loss: 0.0417 - val_loss: 0.0823\n"
     ]
    }
   ],
   "source": [
    "history = model.fit(X_train_sc,y_train,epochs=100,validation_data=(X_test_sc,y_test))"
   ]
  },
  {
   "cell_type": "code",
   "execution_count": 103,
   "metadata": {
    "colab": {
     "base_uri": "https://localhost:8080/",
     "height": 282
    },
    "colab_type": "code",
    "id": "udGN-vCMC4By",
    "outputId": "24af683e-ce8d-4cff-d2a7-d9e506990520"
   },
   "outputs": [
    {
     "data": {
      "text/plain": [
       "[<matplotlib.lines.Line2D at 0x7ff76b46ddd8>]"
      ]
     },
     "execution_count": 103,
     "metadata": {
      "tags": []
     },
     "output_type": "execute_result"
    },
    {
     "data": {
      "image/png": "[encoded data removed]",
      "text/plain": [
       "<Figure size 432x288 with 1 Axes>"
      ]
     },
     "metadata": {
      "needs_background": "light",
      "tags": []
     },
     "output_type": "display_data"
    }
   ],
   "source": [
    "tr_loss = history.history['loss']\n",
    "val_loss = history.history['val_loss']\n",
    "ep = list(range(1,101))\n",
    "plt.plot(ep,tr_loss,color='r')\n",
    "plt.plot(ep,val_loss,color='g')"
   ]
  },
  {
   "cell_type": "code",
   "execution_count": 104,
   "metadata": {
    "colab": {
     "base_uri": "https://localhost:8080/",
     "height": 136
    },
    "colab_type": "code",
    "id": "e1qc3x4ZKAcT",
    "outputId": "8d0d4124-be5f-4b77-e467-535ea006f146"
   },
   "outputs": [
    {
     "data": {
      "text/plain": [
       "array([[18.087706],\n",
       "       [18.460659],\n",
       "       [18.128067],\n",
       "       ...,\n",
       "       [14.75663 ],\n",
       "       [14.651346],\n",
       "       [14.588213]], dtype=float32)"
      ]
     },
     "execution_count": 104,
     "metadata": {
      "tags": []
     },
     "output_type": "execute_result"
    }
   ],
   "source": [
    "model.predict(X_test_sc)"
   ]
  },
  {
   "cell_type": "code",
   "execution_count": 105,
   "metadata": {
    "colab": {
     "base_uri": "https://localhost:8080/",
     "height": 282
    },
    "colab_type": "code",
    "id": "2fEwLFa5KQyZ",
    "outputId": "9c743d09-2bf2-4deb-f01f-a150c5cf389b"
   },
   "outputs": [
    {
     "data": {
      "text/plain": [
       "[<matplotlib.lines.Line2D at 0x7ff76b210278>]"
      ]
     },
     "execution_count": 105,
     "metadata": {
      "tags": []
     },
     "output_type": "execute_result"
    },
    {
     "data": {
      "image/png": "[encoded data removed]",
      "text/plain": [
       "<Figure size 432x288 with 1 Axes>"
      ]
     },
     "metadata": {
      "needs_background": "light",
      "tags": []
     },
     "output_type": "display_data"
    }
   ],
   "source": [
    "plt.plot(range(len(X_test_sc)),model.predict(X_test_sc).flat)\n",
    "plt.plot(range(len(X_test_sc)),y_test)"
   ]
  },
  {
   "cell_type": "code",
   "execution_count": 106,
   "metadata": {
    "colab": {
     "base_uri": "https://localhost:8080/",
     "height": 51
    },
    "colab_type": "code",
    "id": "gqKWvSp0KapM",
    "outputId": "f3b830be-9292-442d-9cd3-1def2978e98d"
   },
   "outputs": [
    {
     "data": {
      "text/plain": [
       "array([[1.83452331, 1.79335594, 1.80026549, 1.84455613, 1.80873511,\n",
       "        1.83522413, 1.90620355]])"
      ]
     },
     "execution_count": 106,
     "metadata": {
      "tags": []
     },
     "output_type": "execute_result"
    }
   ],
   "source": [
    "X_test_sc[0].reshape(1,7)"
   ]
  },
  {
   "cell_type": "code",
   "execution_count": 107,
   "metadata": {
    "colab": {
     "base_uri": "https://localhost:8080/",
     "height": 255
    },
    "colab_type": "code",
    "id": "I1wnBbBFKpBp",
    "outputId": "475be5f9-44a1-48e3-f302-2430aa903e06"
   },
   "outputs": [
    {
     "name": "stdout",
     "output_type": "stream",
     "text": [
      "Model: \"sequential_3\"\n",
      "_________________________________________________________________\n",
      "Layer (type)                 Output Shape              Param #   \n",
      "=================================================================\n",
      "lstm_3 (LSTM)                (None, 256)               264192    \n",
      "_________________________________________________________________\n",
      "dropout_1 (Dropout)          (None, 256)               0         \n",
      "_________________________________________________________________\n",
      "dense_3 (Dense)              (None, 1)                 257       \n",
      "=================================================================\n",
      "Total params: 264,449\n",
      "Trainable params: 264,449\n",
      "Non-trainable params: 0\n",
      "_________________________________________________________________\n"
     ]
    }
   ],
   "source": [
    "from keras.models import Sequential\n",
    "from keras.layers import Dense,Dropout,LSTM\n",
    "model2 = Sequential()\n",
    "# 256 cels\n",
    "model2.add(LSTM(256,input_shape=(7,1)))\n",
    "model2.add(Dropout(0.3))\n",
    "# single neuron\n",
    "model2.add(Dense(1))\n",
    "model2.summary()\n"
   ]
  },
  {
   "cell_type": "code",
   "execution_count": 108,
   "metadata": {
    "colab": {},
    "colab_type": "code",
    "id": "wQ6sOLtzKxid"
   },
   "outputs": [],
   "source": [
    "model2.compile(optimizer='adam',loss='mse')"
   ]
  },
  {
   "cell_type": "code",
   "execution_count": 109,
   "metadata": {
    "colab": {
     "base_uri": "https://localhost:8080/",
     "height": 1000
    },
    "colab_type": "code",
    "id": "CQ2vsRHMK-kf",
    "outputId": "51a258f6-b8c8-4fa8-8f20-c92af437d5e7"
   },
   "outputs": [
    {
     "name": "stdout",
     "output_type": "stream",
     "text": [
      "Train on 21829 samples, validate on 5458 samples\n",
      "Epoch 1/100\n",
      "21829/21829 [==============================] - 20s 929us/step - loss: 3.0594 - val_loss: 1.4150\n",
      "Epoch 2/100\n",
      "21829/21829 [==============================] - 20s 915us/step - loss: 0.6803 - val_loss: 1.2792\n",
      "Epoch 3/100\n",
      "21829/21829 [==============================] - 20s 917us/step - loss: 0.4478 - val_loss: 0.3187\n",
      "Epoch 4/100\n",
      "21829/21829 [==============================] - 20s 915us/step - loss: 0.3872 - val_loss: 0.3599\n",
      "Epoch 5/100\n",
      "21829/21829 [==============================] - 20s 914us/step - loss: 0.3412 - val_loss: 0.3732\n",
      "Epoch 6/100\n",
      "21829/21829 [==============================] - 20s 919us/step - loss: 0.3503 - val_loss: 0.2075\n",
      "Epoch 7/100\n",
      "21829/21829 [==============================] - 20s 905us/step - loss: 0.3137 - val_loss: 0.1807\n",
      "Epoch 8/100\n",
      "21829/21829 [==============================] - 20s 901us/step - loss: 0.2877 - val_loss: 0.1330\n",
      "Epoch 9/100\n",
      "21829/21829 [==============================] - 20s 909us/step - loss: 0.3255 - val_loss: 0.1409\n",
      "Epoch 10/100\n",
      "21829/21829 [==============================] - 20s 921us/step - loss: 0.2775 - val_loss: 0.3229\n",
      "Epoch 11/100\n",
      "21829/21829 [==============================] - 20s 921us/step - loss: 0.2694 - val_loss: 0.2881\n",
      "Epoch 12/100\n",
      "21829/21829 [==============================] - 20s 917us/step - loss: 0.2466 - val_loss: 0.0984\n",
      "Epoch 13/100\n",
      "21829/21829 [==============================] - 20s 917us/step - loss: 0.2416 - val_loss: 0.2296\n",
      "Epoch 14/100\n",
      "21829/21829 [==============================] - 20s 915us/step - loss: 0.2377 - val_loss: 0.1104\n",
      "Epoch 15/100\n",
      "21829/21829 [==============================] - 20s 923us/step - loss: 0.2343 - val_loss: 0.0839\n",
      "Epoch 16/100\n",
      "21829/21829 [==============================] - 20s 926us/step - loss: 0.2304 - val_loss: 0.5313\n",
      "Epoch 17/100\n",
      "21829/21829 [==============================] - 20s 920us/step - loss: 0.2229 - val_loss: 0.0734\n",
      "Epoch 18/100\n",
      "21829/21829 [==============================] - 20s 912us/step - loss: 0.2179 - val_loss: 0.0723\n",
      "Epoch 19/100\n",
      "21829/21829 [==============================] - 20s 914us/step - loss: 0.2104 - val_loss: 0.0777\n",
      "Epoch 20/100\n",
      "21829/21829 [==============================] - 20s 912us/step - loss: 0.2103 - val_loss: 0.3410\n",
      "Epoch 21/100\n",
      "21829/21829 [==============================] - 20s 924us/step - loss: 0.2081 - val_loss: 0.1393\n",
      "Epoch 22/100\n",
      "21829/21829 [==============================] - 20s 910us/step - loss: 0.2034 - val_loss: 0.0737\n",
      "Epoch 23/100\n",
      "21829/21829 [==============================] - 20s 909us/step - loss: 0.1970 - val_loss: 0.1052\n",
      "Epoch 24/100\n",
      "21829/21829 [==============================] - 20s 913us/step - loss: 0.1870 - val_loss: 0.0856\n",
      "Epoch 25/100\n",
      "21829/21829 [==============================] - 20s 916us/step - loss: 0.1898 - val_loss: 0.2040\n",
      "Epoch 26/100\n",
      "21829/21829 [==============================] - 20s 932us/step - loss: 0.1966 - val_loss: 0.1012\n",
      "Epoch 27/100\n",
      "21829/21829 [==============================] - 20s 912us/step - loss: 0.1878 - val_loss: 0.0827\n",
      "Epoch 28/100\n",
      "21829/21829 [==============================] - 20s 915us/step - loss: 0.1850 - val_loss: 0.0861\n",
      "Epoch 29/100\n",
      "21829/21829 [==============================] - 20s 918us/step - loss: 0.1849 - val_loss: 0.1201\n",
      "Epoch 30/100\n",
      "21829/21829 [==============================] - 20s 914us/step - loss: 0.1756 - val_loss: 0.0872\n",
      "Epoch 31/100\n",
      "21829/21829 [==============================] - 20s 918us/step - loss: 0.1802 - val_loss: 0.0952\n",
      "Epoch 32/100\n",
      "21829/21829 [==============================] - 20s 918us/step - loss: 0.1774 - val_loss: 0.1303\n",
      "Epoch 33/100\n",
      "21829/21829 [==============================] - 20s 923us/step - loss: 0.1744 - val_loss: 0.0776\n",
      "Epoch 34/100\n",
      "21829/21829 [==============================] - 20s 928us/step - loss: 0.1761 - val_loss: 0.2230\n",
      "Epoch 35/100\n",
      "21829/21829 [==============================] - 20s 929us/step - loss: 0.1697 - val_loss: 0.1206\n",
      "Epoch 36/100\n",
      "21829/21829 [==============================] - 20s 933us/step - loss: 0.1748 - val_loss: 0.1191\n",
      "Epoch 37/100\n",
      "21829/21829 [==============================] - 20s 921us/step - loss: 0.1625 - val_loss: 0.0906\n",
      "Epoch 38/100\n",
      "21829/21829 [==============================] - 20s 923us/step - loss: 0.1628 - val_loss: 0.1112\n",
      "Epoch 39/100\n",
      "21829/21829 [==============================] - 20s 924us/step - loss: 0.1651 - val_loss: 0.1511\n",
      "Epoch 40/100\n",
      "21829/21829 [==============================] - 20s 916us/step - loss: 0.1661 - val_loss: 0.0723\n",
      "Epoch 41/100\n",
      "21829/21829 [==============================] - 20s 926us/step - loss: 0.1624 - val_loss: 0.0862\n",
      "Epoch 42/100\n",
      "21829/21829 [==============================] - 20s 928us/step - loss: 0.1590 - val_loss: 0.1309\n",
      "Epoch 43/100\n",
      "21829/21829 [==============================] - 20s 932us/step - loss: 0.1545 - val_loss: 0.0845\n",
      "Epoch 44/100\n",
      "21829/21829 [==============================] - 20s 929us/step - loss: 0.1554 - val_loss: 0.0800\n",
      "Epoch 45/100\n",
      "21829/21829 [==============================] - 20s 923us/step - loss: 0.1560 - val_loss: 0.1781\n",
      "Epoch 46/100\n",
      "21829/21829 [==============================] - 20s 927us/step - loss: 0.1502 - val_loss: 0.0830\n",
      "Epoch 47/100\n",
      "21829/21829 [==============================] - 20s 918us/step - loss: 0.1523 - val_loss: 0.1391\n",
      "Epoch 48/100\n",
      "21829/21829 [==============================] - 20s 923us/step - loss: 0.1530 - val_loss: 0.0739\n",
      "Epoch 49/100\n",
      "21829/21829 [==============================] - 20s 921us/step - loss: 0.1422 - val_loss: 0.1218\n",
      "Epoch 50/100\n",
      "21829/21829 [==============================] - 20s 930us/step - loss: 0.1452 - val_loss: 0.0790\n",
      "Epoch 51/100\n",
      "21829/21829 [==============================] - 20s 929us/step - loss: 0.1485 - val_loss: 0.0880\n",
      "Epoch 52/100\n",
      "21829/21829 [==============================] - 20s 929us/step - loss: 0.1453 - val_loss: 0.1824\n",
      "Epoch 53/100\n",
      "21829/21829 [==============================] - 20s 924us/step - loss: 0.1479 - val_loss: 0.2257\n",
      "Epoch 54/100\n",
      "21829/21829 [==============================] - 20s 923us/step - loss: 0.1442 - val_loss: 0.0875\n",
      "Epoch 55/100\n",
      "21829/21829 [==============================] - 20s 922us/step - loss: 0.1420 - val_loss: 0.2012\n",
      "Epoch 56/100\n",
      "21829/21829 [==============================] - 20s 923us/step - loss: 0.1393 - val_loss: 0.1142\n",
      "Epoch 57/100\n",
      "21829/21829 [==============================] - 21s 942us/step - loss: 0.1433 - val_loss: 0.1313\n",
      "Epoch 58/100\n",
      "21829/21829 [==============================] - 20s 926us/step - loss: 0.1365 - val_loss: 0.1366\n",
      "Epoch 59/100\n",
      "21829/21829 [==============================] - 20s 925us/step - loss: 0.1401 - val_loss: 0.0923\n",
      "Epoch 60/100\n",
      "21829/21829 [==============================] - 20s 921us/step - loss: 0.1383 - val_loss: 0.0999\n",
      "Epoch 61/100\n",
      "21829/21829 [==============================] - 20s 924us/step - loss: 0.1396 - val_loss: 0.0693\n",
      "Epoch 62/100\n",
      "21829/21829 [==============================] - 20s 934us/step - loss: 0.1334 - val_loss: 0.1786\n",
      "Epoch 63/100\n",
      "21829/21829 [==============================] - 20s 923us/step - loss: 0.1344 - val_loss: 0.0844\n",
      "Epoch 64/100\n",
      "21829/21829 [==============================] - 20s 923us/step - loss: 0.1303 - val_loss: 0.2023\n",
      "Epoch 65/100\n",
      "21829/21829 [==============================] - 20s 920us/step - loss: 0.1327 - val_loss: 0.1239\n",
      "Epoch 66/100\n",
      "21829/21829 [==============================] - 20s 921us/step - loss: 0.1346 - val_loss: 0.0913\n",
      "Epoch 67/100\n",
      "21829/21829 [==============================] - 20s 922us/step - loss: 0.1317 - val_loss: 0.1442\n",
      "Epoch 68/100\n",
      "21829/21829 [==============================] - 20s 917us/step - loss: 0.1288 - val_loss: 0.0687\n",
      "Epoch 69/100\n",
      "21829/21829 [==============================] - 20s 921us/step - loss: 0.1271 - val_loss: 0.1509\n",
      "Epoch 70/100\n",
      "21829/21829 [==============================] - 20s 916us/step - loss: 0.1290 - val_loss: 0.0911\n",
      "Epoch 71/100\n",
      "21829/21829 [==============================] - 20s 917us/step - loss: 0.1286 - val_loss: 0.0856\n",
      "Epoch 72/100\n",
      "21829/21829 [==============================] - 20s 934us/step - loss: 0.1274 - val_loss: 0.0888\n",
      "Epoch 73/100\n",
      "21829/21829 [==============================] - 20s 926us/step - loss: 0.1245 - val_loss: 0.0733\n",
      "Epoch 74/100\n",
      "21829/21829 [==============================] - 20s 925us/step - loss: 0.1253 - val_loss: 0.0758\n",
      "Epoch 75/100\n",
      "21829/21829 [==============================] - 20s 917us/step - loss: 0.1240 - val_loss: 0.0706\n",
      "Epoch 76/100\n",
      "21829/21829 [==============================] - 20s 917us/step - loss: 0.1280 - val_loss: 0.2251\n",
      "Epoch 77/100\n",
      "21829/21829 [==============================] - 20s 921us/step - loss: 0.1225 - val_loss: 0.1659\n",
      "Epoch 78/100\n",
      "21829/21829 [==============================] - 20s 921us/step - loss: 0.1245 - val_loss: 0.0769\n",
      "Epoch 79/100\n",
      "21829/21829 [==============================] - 20s 921us/step - loss: 0.1235 - val_loss: 0.0822\n",
      "Epoch 80/100\n",
      "21829/21829 [==============================] - 20s 923us/step - loss: 0.1178 - val_loss: 0.0936\n",
      "Epoch 81/100\n",
      "21829/21829 [==============================] - 20s 925us/step - loss: 0.1210 - val_loss: 0.0745\n",
      "Epoch 82/100\n",
      "21829/21829 [==============================] - 20s 932us/step - loss: 0.1220 - val_loss: 0.0693\n",
      "Epoch 83/100\n",
      "21829/21829 [==============================] - 20s 936us/step - loss: 0.1179 - val_loss: 0.0979\n",
      "Epoch 84/100\n",
      "21829/21829 [==============================] - 20s 920us/step - loss: 0.1217 - val_loss: 0.0716\n",
      "Epoch 85/100\n",
      "21829/21829 [==============================] - 20s 917us/step - loss: 0.1229 - val_loss: 0.2912\n",
      "Epoch 86/100\n",
      "21829/21829 [==============================] - 20s 924us/step - loss: 0.1199 - val_loss: 0.0955\n",
      "Epoch 87/100\n",
      "21829/21829 [==============================] - 20s 911us/step - loss: 0.1171 - val_loss: 0.0814\n",
      "Epoch 88/100\n",
      "21829/21829 [==============================] - 20s 937us/step - loss: 0.1218 - val_loss: 0.0811\n",
      "Epoch 89/100\n",
      "21829/21829 [==============================] - 20s 923us/step - loss: 0.1182 - val_loss: 0.0688\n",
      "Epoch 90/100\n",
      "21829/21829 [==============================] - 20s 918us/step - loss: 0.1181 - val_loss: 0.1880\n",
      "Epoch 91/100\n",
      "21829/21829 [==============================] - 20s 915us/step - loss: 0.1192 - val_loss: 0.0741\n",
      "Epoch 92/100\n",
      "21829/21829 [==============================] - 20s 923us/step - loss: 0.1172 - val_loss: 0.0703\n",
      "Epoch 93/100\n",
      "21829/21829 [==============================] - 20s 921us/step - loss: 0.1155 - val_loss: 0.1025\n",
      "Epoch 94/100\n",
      "21829/21829 [==============================] - 20s 917us/step - loss: 0.1196 - val_loss: 0.0949\n",
      "Epoch 95/100\n",
      "21829/21829 [==============================] - 20s 921us/step - loss: 0.1163 - val_loss: 0.0694\n",
      "Epoch 96/100\n",
      "21829/21829 [==============================] - 20s 918us/step - loss: 0.1166 - val_loss: 0.1088\n",
      "Epoch 97/100\n",
      "21829/21829 [==============================] - 20s 921us/step - loss: 0.1194 - val_loss: 0.0965\n",
      "Epoch 98/100\n",
      "21829/21829 [==============================] - 20s 929us/step - loss: 0.1125 - val_loss: 0.0705\n",
      "Epoch 99/100\n",
      "21829/21829 [==============================] - 20s 927us/step - loss: 0.1149 - val_loss: 0.1257\n",
      "Epoch 100/100\n",
      "21829/21829 [==============================] - 20s 923us/step - loss: 0.1159 - val_loss: 0.0745\n"
     ]
    }
   ],
   "source": [
    "history2 = model2.fit(X_train_sc,y_train,epochs=100,validation_data=(X_test_sc,y_test))"
   ]
  },
  {
   "cell_type": "code",
   "execution_count": 110,
   "metadata": {
    "colab": {
     "base_uri": "https://localhost:8080/",
     "height": 282
    },
    "colab_type": "code",
    "id": "1iYcNEJ9LBdH",
    "outputId": "7f4d5bae-6ab5-4d89-b57a-67429ce39189"
   },
   "outputs": [
    {
     "data": {
      "text/plain": [
       "[<matplotlib.lines.Line2D at 0x7ff76adcc7b8>]"
      ]
     },
     "execution_count": 110,
     "metadata": {
      "tags": []
     },
     "output_type": "execute_result"
    },
    {
     "data": {
      "image/png": "[encoded data removed]",
      "text/plain": [
       "<Figure size 432x288 with 1 Axes>"
      ]
     },
     "metadata": {
      "needs_background": "light",
      "tags": []
     },
     "output_type": "display_data"
    }
   ],
   "source": [
    "tr_loss = history2.history['loss']\n",
    "val_loss = history2.history['val_loss']\n",
    "ep = list(range(1,101))\n",
    "plt.plot(ep,tr_loss,color='r')\n",
    "plt.plot(ep,val_loss,color='b')\n"
   ]
  },
  {
   "cell_type": "code",
   "execution_count": 111,
   "metadata": {
    "colab": {
     "base_uri": "https://localhost:8080/",
     "height": 136
    },
    "colab_type": "code",
    "id": "xxwFWFBocIaa",
    "outputId": "45c4a752-cf42-4db9-d980-65201ac41514"
   },
   "outputs": [
    {
     "data": {
      "text/plain": [
       "array([[18.087706],\n",
       "       [18.460659],\n",
       "       [18.128067],\n",
       "       ...,\n",
       "       [14.75663 ],\n",
       "       [14.651346],\n",
       "       [14.588213]], dtype=float32)"
      ]
     },
     "execution_count": 111,
     "metadata": {
      "tags": []
     },
     "output_type": "execute_result"
    }
   ],
   "source": [
    "model.predict(X_test_sc)"
   ]
  },
  {
   "cell_type": "code",
   "execution_count": 112,
   "metadata": {
    "colab": {
     "base_uri": "https://localhost:8080/",
     "height": 952
    },
    "colab_type": "code",
    "id": "RYn2ySKYtU5X",
    "outputId": "f91073af-c91f-41f4-8fda-69c2c5f01f8b"
   },
   "outputs": [
    {
     "name": "stdout",
     "output_type": "stream",
     "text": [
      "[[[1.83452331]\n",
      "  [1.79335594]\n",
      "  [1.80026549]\n",
      "  ...\n",
      "  [1.80873511]\n",
      "  [1.83522413]\n",
      "  [1.90620355]]\n",
      "\n",
      " [[1.7935749 ]\n",
      "  [1.80047708]\n",
      "  [1.84477075]\n",
      "  ...\n",
      "  [1.835436  ]\n",
      "  [1.90642374]\n",
      "  [1.97206046]]\n",
      "\n",
      " [[1.80069636]\n",
      "  [1.84498421]\n",
      "  [1.80916654]\n",
      "  ...\n",
      "  [1.90663839]\n",
      "  [1.97228337]\n",
      "  [1.93646213]]\n",
      "\n",
      " ...\n",
      "\n",
      " [[1.21139538]\n",
      "  [1.2379069 ]\n",
      "  [1.23949913]\n",
      "  ...\n",
      "  [1.27293715]\n",
      "  [1.28876716]\n",
      "  [1.31883111]]\n",
      "\n",
      " [[1.23810086]\n",
      "  [1.23968719]\n",
      "  [1.27688355]\n",
      "  ...\n",
      "  [1.28895769]\n",
      "  [1.31902699]\n",
      "  [1.31527128]]\n",
      "\n",
      " [[1.23988123]\n",
      "  [1.27707318]\n",
      "  [1.27332313]\n",
      "  ...\n",
      "  [1.3192187 ]\n",
      "  [1.31546701]\n",
      "  [1.30281187]]] [[18.087706]\n",
      " [18.460659]\n",
      " [18.128067]\n",
      " ...\n",
      " [14.75663 ]\n",
      " [14.651346]\n",
      " [14.588213]]\n"
     ]
    }
   ],
   "source": [
    "predictions = model.predict(X_test_sc)\n",
    "print(X_test_sc, predictions)\n"
   ]
  },
  {
   "cell_type": "code",
   "execution_count": 115,
   "metadata": {
    "colab": {
     "base_uri": "https://localhost:8080/",
     "height": 136
    },
    "colab_type": "code",
    "id": "yNOnU916vqAW",
    "outputId": "9070cbaa-6af3-4b71-9174-8ce3e5c1a90f"
   },
   "outputs": [
    {
     "data": {
      "text/plain": [
       "array([[18.087706],\n",
       "       [18.460659],\n",
       "       [18.128067],\n",
       "       ...,\n",
       "       [14.75663 ],\n",
       "       [14.651346],\n",
       "       [14.588213]], dtype=float32)"
      ]
     },
     "execution_count": 115,
     "metadata": {
      "tags": []
     },
     "output_type": "execute_result"
    }
   ],
   "source": [
    "y_train_pred = model.predict(X_test_sc)\n",
    "y_train_pred"
   ]
  },
  {
   "cell_type": "code",
   "execution_count": 133,
   "metadata": {
    "colab": {
     "base_uri": "https://localhost:8080/",
     "height": 34
    },
    "colab_type": "code",
    "id": "OvLKZPPySJjy",
    "outputId": "931ca9fd-99c2-4ea6-afdb-1f40d03d36e7"
   },
   "outputs": [
    {
     "data": {
      "text/plain": [
       "99.99917854507109"
      ]
     },
     "execution_count": 133,
     "metadata": {
      "tags": []
     },
     "output_type": "execute_result"
    }
   ],
   "source": [
    "model_score = (model.score(X_test_sc,test_y))*100 -----> accuracy_score of RNN\n",
    "model_score"
   ]
  },
  {
   "cell_type": "code",
   "execution_count": null,
   "metadata": {
    "colab": {
     "base_uri": "https://localhost:8080/",
     "height": 85
    },
    "colab_type": "code",
    "id": "9LnUBDJMot_w",
    "outputId": "252a7116-376d-4676-8d08-b84eef577c9d"
   },
   "outputs": [],
   "source": []
  },
  {
   "cell_type": "code",
   "execution_count": null,
   "metadata": {},
   "outputs": [],
   "source": []
  }
 ],
 "metadata": {
  "colab": {
   "collapsed_sections": [],
   "name": "weatherforecasting (LSTM).ipynb",
   "provenance": []
  },
  "kernelspec": {
   "display_name": "Python 3",
   "language": "python",
   "name": "python3"
  },
  "language_info": {
   "codemirror_mode": {
    "name": "ipython",
    "version": 3
   },
   "file_extension": ".py",
   "mimetype": "text/x-python",
   "name": "python",
   "nbconvert_exporter": "python",
   "pygments_lexer": "ipython3",
   "version": "3.7.6"
  }
 },
 "nbformat": 4,
 "nbformat_minor": 1
}
